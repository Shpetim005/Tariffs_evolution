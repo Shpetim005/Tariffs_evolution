{
 "cells": [
  {
   "cell_type": "code",
   "execution_count": 7,
   "id": "0c12429d",
   "metadata": {},
   "outputs": [],
   "source": [
    "import pandas as pd\n",
    "import matplotlib.pyplot as plt\n",
    "import plotly.express as px\n"
   ]
  },
  {
   "cell_type": "code",
   "execution_count": 8,
   "id": "c5d9bbf2",
   "metadata": {},
   "outputs": [
    {
     "data": {
      "application/vnd.plotly.v1+json": {
       "config": {
        "plotlyServerURL": "https://plot.ly"
       },
       "data": [
        {
         "coloraxis": "coloraxis",
         "geo": "geo",
         "hovertemplate": "date_str=2023-01<br>country=%{location}<br>barriers=%{z}<extra></extra>",
         "locationmode": "country names",
         "locations": [
          "Brazil",
          "China",
          "France",
          "Germany",
          "India",
          "Japan",
          "Russia",
          "United States of America"
         ],
         "name": "",
         "type": "choropleth",
         "z": [
          18,
          668,
          11,
          16,
          9,
          6,
          14,
          52
         ]
        }
       ],
       "frames": [
        {
         "data": [
          {
           "coloraxis": "coloraxis",
           "geo": "geo",
           "hovertemplate": "date_str=2023-01<br>country=%{location}<br>barriers=%{z}<extra></extra>",
           "locationmode": "country names",
           "locations": [
            "Brazil",
            "China",
            "France",
            "Germany",
            "India",
            "Japan",
            "Russia",
            "United States of America"
           ],
           "name": "",
           "type": "choropleth",
           "z": [
            18,
            668,
            11,
            16,
            9,
            6,
            14,
            52
           ]
          }
         ],
         "name": "2023-01"
        },
        {
         "data": [
          {
           "coloraxis": "coloraxis",
           "geo": "geo",
           "hovertemplate": "date_str=2023-02<br>country=%{location}<br>barriers=%{z}<extra></extra>",
           "locationmode": "country names",
           "locations": [
            "Brazil",
            "China",
            "France",
            "Germany",
            "India",
            "Japan",
            "Russia",
            "United States of America"
           ],
           "name": "",
           "type": "choropleth",
           "z": [
            10,
            34,
            31,
            32,
            50,
            8,
            14,
            62
           ]
          }
         ],
         "name": "2023-02"
        },
        {
         "data": [
          {
           "coloraxis": "coloraxis",
           "geo": "geo",
           "hovertemplate": "date_str=2023-03<br>country=%{location}<br>barriers=%{z}<extra></extra>",
           "locationmode": "country names",
           "locations": [
            "Brazil",
            "China",
            "France",
            "Germany",
            "India",
            "Japan",
            "Russia",
            "United States of America"
           ],
           "name": "",
           "type": "choropleth",
           "z": [
            26,
            27,
            15,
            26,
            40,
            14,
            15,
            64
           ]
          }
         ],
         "name": "2023-03"
        },
        {
         "data": [
          {
           "coloraxis": "coloraxis",
           "geo": "geo",
           "hovertemplate": "date_str=2023-04<br>country=%{location}<br>barriers=%{z}<extra></extra>",
           "locationmode": "country names",
           "locations": [
            "Brazil",
            "China",
            "France",
            "Germany",
            "India",
            "Japan",
            "Russia",
            "United States of America"
           ],
           "name": "",
           "type": "choropleth",
           "z": [
            13,
            19,
            9,
            22,
            14,
            17,
            11,
            47
           ]
          }
         ],
         "name": "2023-04"
        },
        {
         "data": [
          {
           "coloraxis": "coloraxis",
           "geo": "geo",
           "hovertemplate": "date_str=2023-05<br>country=%{location}<br>barriers=%{z}<extra></extra>",
           "locationmode": "country names",
           "locations": [
            "Brazil",
            "China",
            "France",
            "Germany",
            "India",
            "Japan",
            "Russia",
            "United States of America"
           ],
           "name": "",
           "type": "choropleth",
           "z": [
            23,
            25,
            11,
            20,
            12,
            3,
            17,
            81
           ]
          }
         ],
         "name": "2023-05"
        },
        {
         "data": [
          {
           "coloraxis": "coloraxis",
           "geo": "geo",
           "hovertemplate": "date_str=2023-06<br>country=%{location}<br>barriers=%{z}<extra></extra>",
           "locationmode": "country names",
           "locations": [
            "Brazil",
            "China",
            "France",
            "Germany",
            "India",
            "Japan",
            "Russia",
            "United States of America"
           ],
           "name": "",
           "type": "choropleth",
           "z": [
            15,
            27,
            30,
            44,
            25,
            20,
            13,
            83
           ]
          }
         ],
         "name": "2023-06"
        },
        {
         "data": [
          {
           "coloraxis": "coloraxis",
           "geo": "geo",
           "hovertemplate": "date_str=2023-07<br>country=%{location}<br>barriers=%{z}<extra></extra>",
           "locationmode": "country names",
           "locations": [
            "Brazil",
            "China",
            "France",
            "Germany",
            "India",
            "Japan",
            "Russia",
            "United States of America"
           ],
           "name": "",
           "type": "choropleth",
           "z": [
            71,
            15,
            22,
            30,
            16,
            9,
            22,
            37
           ]
          }
         ],
         "name": "2023-07"
        },
        {
         "data": [
          {
           "coloraxis": "coloraxis",
           "geo": "geo",
           "hovertemplate": "date_str=2023-08<br>country=%{location}<br>barriers=%{z}<extra></extra>",
           "locationmode": "country names",
           "locations": [
            "Brazil",
            "China",
            "France",
            "Germany",
            "India",
            "Russia",
            "United States of America"
           ],
           "name": "",
           "type": "choropleth",
           "z": [
            61,
            30,
            10,
            21,
            17,
            8,
            70
           ]
          }
         ],
         "name": "2023-08"
        },
        {
         "data": [
          {
           "coloraxis": "coloraxis",
           "geo": "geo",
           "hovertemplate": "date_str=2023-09<br>country=%{location}<br>barriers=%{z}<extra></extra>",
           "locationmode": "country names",
           "locations": [
            "Brazil",
            "China",
            "France",
            "Germany",
            "India",
            "Japan",
            "Russia",
            "United States of America"
           ],
           "name": "",
           "type": "choropleth",
           "z": [
            30,
            44,
            15,
            25,
            17,
            7,
            26,
            67
           ]
          }
         ],
         "name": "2023-09"
        },
        {
         "data": [
          {
           "coloraxis": "coloraxis",
           "geo": "geo",
           "hovertemplate": "date_str=2023-10<br>country=%{location}<br>barriers=%{z}<extra></extra>",
           "locationmode": "country names",
           "locations": [
            "Brazil",
            "China",
            "France",
            "Germany",
            "India",
            "Japan",
            "Russia",
            "United States of America"
           ],
           "name": "",
           "type": "choropleth",
           "z": [
            21,
            10,
            15,
            21,
            15,
            23,
            16,
            42
           ]
          }
         ],
         "name": "2023-10"
        },
        {
         "data": [
          {
           "coloraxis": "coloraxis",
           "geo": "geo",
           "hovertemplate": "date_str=2023-11<br>country=%{location}<br>barriers=%{z}<extra></extra>",
           "locationmode": "country names",
           "locations": [
            "Brazil",
            "China",
            "France",
            "Germany",
            "India",
            "Japan",
            "Russia",
            "United States of America"
           ],
           "name": "",
           "type": "choropleth",
           "z": [
            36,
            21,
            17,
            23,
            8,
            5,
            18,
            81
           ]
          }
         ],
         "name": "2023-11"
        },
        {
         "data": [
          {
           "coloraxis": "coloraxis",
           "geo": "geo",
           "hovertemplate": "date_str=2023-12<br>country=%{location}<br>barriers=%{z}<extra></extra>",
           "locationmode": "country names",
           "locations": [
            "Brazil",
            "China",
            "France",
            "Germany",
            "India",
            "Japan",
            "Russia",
            "United States of America"
           ],
           "name": "",
           "type": "choropleth",
           "z": [
            17,
            57,
            82,
            85,
            23,
            7,
            24,
            86
           ]
          }
         ],
         "name": "2023-12"
        },
        {
         "data": [
          {
           "coloraxis": "coloraxis",
           "geo": "geo",
           "hovertemplate": "date_str=2024-01<br>country=%{location}<br>barriers=%{z}<extra></extra>",
           "locationmode": "country names",
           "locations": [
            "Brazil",
            "China",
            "France",
            "Germany",
            "India",
            "Japan",
            "Russia",
            "United States of America"
           ],
           "name": "",
           "type": "choropleth",
           "z": [
            28,
            15,
            27,
            27,
            20,
            3,
            4,
            37
           ]
          }
         ],
         "name": "2024-01"
        },
        {
         "data": [
          {
           "coloraxis": "coloraxis",
           "geo": "geo",
           "hovertemplate": "date_str=2024-02<br>country=%{location}<br>barriers=%{z}<extra></extra>",
           "locationmode": "country names",
           "locations": [
            "Brazil",
            "China",
            "France",
            "Germany",
            "India",
            "Japan",
            "Russia",
            "United States of America"
           ],
           "name": "",
           "type": "choropleth",
           "z": [
            40,
            20,
            23,
            29,
            43,
            8,
            10,
            71
           ]
          }
         ],
         "name": "2024-02"
        },
        {
         "data": [
          {
           "coloraxis": "coloraxis",
           "geo": "geo",
           "hovertemplate": "date_str=2024-03<br>country=%{location}<br>barriers=%{z}<extra></extra>",
           "locationmode": "country names",
           "locations": [
            "Brazil",
            "China",
            "France",
            "Germany",
            "India",
            "Japan",
            "Russia",
            "United States of America"
           ],
           "name": "",
           "type": "choropleth",
           "z": [
            18,
            35,
            17,
            15,
            47,
            16,
            13,
            81
           ]
          }
         ],
         "name": "2024-03"
        },
        {
         "data": [
          {
           "coloraxis": "coloraxis",
           "geo": "geo",
           "hovertemplate": "date_str=2024-04<br>country=%{location}<br>barriers=%{z}<extra></extra>",
           "locationmode": "country names",
           "locations": [
            "Brazil",
            "China",
            "France",
            "Germany",
            "India",
            "Japan",
            "Russia",
            "United States of America"
           ],
           "name": "",
           "type": "choropleth",
           "z": [
            17,
            28,
            8,
            14,
            7,
            15,
            19,
            62
           ]
          }
         ],
         "name": "2024-04"
        },
        {
         "data": [
          {
           "coloraxis": "coloraxis",
           "geo": "geo",
           "hovertemplate": "date_str=2024-05<br>country=%{location}<br>barriers=%{z}<extra></extra>",
           "locationmode": "country names",
           "locations": [
            "Brazil",
            "China",
            "France",
            "Germany",
            "India",
            "Japan",
            "Russia",
            "United States of America"
           ],
           "name": "",
           "type": "choropleth",
           "z": [
            19,
            53,
            26,
            44,
            8,
            6,
            12,
            84
           ]
          }
         ],
         "name": "2024-05"
        },
        {
         "data": [
          {
           "coloraxis": "coloraxis",
           "geo": "geo",
           "hovertemplate": "date_str=2024-06<br>country=%{location}<br>barriers=%{z}<extra></extra>",
           "locationmode": "country names",
           "locations": [
            "Brazil",
            "China",
            "France",
            "Germany",
            "India",
            "Japan",
            "Russia",
            "United States of America"
           ],
           "name": "",
           "type": "choropleth",
           "z": [
            38,
            23,
            47,
            46,
            18,
            8,
            17,
            101
           ]
          }
         ],
         "name": "2024-06"
        },
        {
         "data": [
          {
           "coloraxis": "coloraxis",
           "geo": "geo",
           "hovertemplate": "date_str=2024-07<br>country=%{location}<br>barriers=%{z}<extra></extra>",
           "locationmode": "country names",
           "locations": [
            "Brazil",
            "China",
            "France",
            "Germany",
            "India",
            "Japan",
            "Russia",
            "United States of America"
           ],
           "name": "",
           "type": "choropleth",
           "z": [
            37,
            42,
            25,
            47,
            25,
            6,
            10,
            48
           ]
          }
         ],
         "name": "2024-07"
        },
        {
         "data": [
          {
           "coloraxis": "coloraxis",
           "geo": "geo",
           "hovertemplate": "date_str=2024-08<br>country=%{location}<br>barriers=%{z}<extra></extra>",
           "locationmode": "country names",
           "locations": [
            "Brazil",
            "China",
            "France",
            "Germany",
            "India",
            "Japan",
            "Russia",
            "United States of America"
           ],
           "name": "",
           "type": "choropleth",
           "z": [
            36,
            25,
            5,
            13,
            12,
            3,
            14,
            31
           ]
          }
         ],
         "name": "2024-08"
        },
        {
         "data": [
          {
           "coloraxis": "coloraxis",
           "geo": "geo",
           "hovertemplate": "date_str=2024-09<br>country=%{location}<br>barriers=%{z}<extra></extra>",
           "locationmode": "country names",
           "locations": [
            "Brazil",
            "China",
            "France",
            "Germany",
            "India",
            "Japan",
            "Russia",
            "United States of America"
           ],
           "name": "",
           "type": "choropleth",
           "z": [
            30,
            22,
            4,
            20,
            33,
            16,
            13,
            67
           ]
          }
         ],
         "name": "2024-09"
        },
        {
         "data": [
          {
           "coloraxis": "coloraxis",
           "geo": "geo",
           "hovertemplate": "date_str=2024-10<br>country=%{location}<br>barriers=%{z}<extra></extra>",
           "locationmode": "country names",
           "locations": [
            "Brazil",
            "China",
            "France",
            "Germany",
            "India",
            "Japan",
            "Russia",
            "United States of America"
           ],
           "name": "",
           "type": "choropleth",
           "z": [
            31,
            10,
            8,
            40,
            13,
            1,
            22,
            97
           ]
          }
         ],
         "name": "2024-10"
        },
        {
         "data": [
          {
           "coloraxis": "coloraxis",
           "geo": "geo",
           "hovertemplate": "date_str=2024-11<br>country=%{location}<br>barriers=%{z}<extra></extra>",
           "locationmode": "country names",
           "locations": [
            "Brazil",
            "China",
            "France",
            "Germany",
            "India",
            "Japan",
            "Russia",
            "United States of America"
           ],
           "name": "",
           "type": "choropleth",
           "z": [
            24,
            17,
            10,
            24,
            10,
            14,
            16,
            30
           ]
          }
         ],
         "name": "2024-11"
        },
        {
         "data": [
          {
           "coloraxis": "coloraxis",
           "geo": "geo",
           "hovertemplate": "date_str=2024-12<br>country=%{location}<br>barriers=%{z}<extra></extra>",
           "locationmode": "country names",
           "locations": [
            "Brazil",
            "China",
            "France",
            "Germany",
            "India",
            "Japan",
            "Russia",
            "United States of America"
           ],
           "name": "",
           "type": "choropleth",
           "z": [
            39,
            18,
            24,
            41,
            22,
            9,
            26,
            71
           ]
          }
         ],
         "name": "2024-12"
        },
        {
         "data": [
          {
           "coloraxis": "coloraxis",
           "geo": "geo",
           "hovertemplate": "date_str=2025-01<br>country=%{location}<br>barriers=%{z}<extra></extra>",
           "locationmode": "country names",
           "locations": [
            "Brazil",
            "China",
            "France",
            "Germany",
            "India",
            "Japan",
            "Russia",
            "United States of America"
           ],
           "name": "",
           "type": "choropleth",
           "z": [
            28,
            22,
            4,
            7,
            23,
            10,
            8,
            48
           ]
          }
         ],
         "name": "2025-01"
        },
        {
         "data": [
          {
           "coloraxis": "coloraxis",
           "geo": "geo",
           "hovertemplate": "date_str=2025-02<br>country=%{location}<br>barriers=%{z}<extra></extra>",
           "locationmode": "country names",
           "locations": [
            "Brazil",
            "China",
            "France",
            "Germany",
            "India",
            "Japan",
            "Russia",
            "United States of America"
           ],
           "name": "",
           "type": "choropleth",
           "z": [
            15,
            13,
            33,
            35,
            44,
            7,
            16,
            53
           ]
          }
         ],
         "name": "2025-02"
        },
        {
         "data": [
          {
           "coloraxis": "coloraxis",
           "geo": "geo",
           "hovertemplate": "date_str=2025-03<br>country=%{location}<br>barriers=%{z}<extra></extra>",
           "locationmode": "country names",
           "locations": [
            "Brazil",
            "China",
            "France",
            "Germany",
            "India",
            "Japan",
            "Russia",
            "United States of America"
           ],
           "name": "",
           "type": "choropleth",
           "z": [
            7,
            22,
            16,
            15,
            13,
            14,
            13,
            28
           ]
          }
         ],
         "name": "2025-03"
        },
        {
         "data": [
          {
           "coloraxis": "coloraxis",
           "geo": "geo",
           "hovertemplate": "date_str=2025-04<br>country=%{location}<br>barriers=%{z}<extra></extra>",
           "locationmode": "country names",
           "locations": [
            "China",
            "Japan",
            "United States of America"
           ],
           "name": "",
           "type": "choropleth",
           "z": [
            8,
            1,
            54
           ]
          }
         ],
         "name": "2025-04"
        }
       ],
       "layout": {
        "annotations": [
         {
          "font": {
           "color": "gray",
           "size": 12
          },
          "showarrow": false,
          "text": "Source : Global Trade Alert (avril 2025) • Mise en évidence de l'intensification des tensions géopolitiques",
          "x": 0.5,
          "xref": "paper",
          "y": -0.12,
          "yref": "paper"
         }
        ],
        "coloraxis": {
         "cmax": 150,
         "cmin": 0,
         "colorbar": {
          "title": {
           "text": "barriers"
          }
         },
         "colorscale": [
          [
           0,
           "#ffffb2"
          ],
          [
           0.25,
           "#fecc5c"
          ],
          [
           0.5,
           "#fd8d3c"
          ],
          [
           0.75,
           "#f03b20"
          ],
          [
           1,
           "#bd0026"
          ]
         ]
        },
        "geo": {
         "bgcolor": "rgba(0,0,0,0)",
         "center": {},
         "domain": {
          "x": [
           0,
           1
          ],
          "y": [
           0,
           1
          ]
         },
         "projection": {
          "type": "natural earth"
         },
         "showframe": false
        },
        "height": 600,
        "legend": {
         "tracegroupgap": 0
        },
        "margin": {
         "b": 50,
         "l": 0,
         "r": 0,
         "t": 60
        },
        "sliders": [
         {
          "active": 0,
          "currentvalue": {
           "prefix": "date_str="
          },
          "len": 0.9,
          "pad": {
           "b": 10,
           "t": 60
          },
          "steps": [
           {
            "args": [
             [
              "2023-01"
             ],
             {
              "frame": {
               "duration": 0,
               "redraw": true
              },
              "fromcurrent": true,
              "mode": "immediate",
              "transition": {
               "duration": 0,
               "easing": "linear"
              }
             }
            ],
            "label": "2023-01",
            "method": "animate"
           },
           {
            "args": [
             [
              "2023-02"
             ],
             {
              "frame": {
               "duration": 0,
               "redraw": true
              },
              "fromcurrent": true,
              "mode": "immediate",
              "transition": {
               "duration": 0,
               "easing": "linear"
              }
             }
            ],
            "label": "2023-02",
            "method": "animate"
           },
           {
            "args": [
             [
              "2023-03"
             ],
             {
              "frame": {
               "duration": 0,
               "redraw": true
              },
              "fromcurrent": true,
              "mode": "immediate",
              "transition": {
               "duration": 0,
               "easing": "linear"
              }
             }
            ],
            "label": "2023-03",
            "method": "animate"
           },
           {
            "args": [
             [
              "2023-04"
             ],
             {
              "frame": {
               "duration": 0,
               "redraw": true
              },
              "fromcurrent": true,
              "mode": "immediate",
              "transition": {
               "duration": 0,
               "easing": "linear"
              }
             }
            ],
            "label": "2023-04",
            "method": "animate"
           },
           {
            "args": [
             [
              "2023-05"
             ],
             {
              "frame": {
               "duration": 0,
               "redraw": true
              },
              "fromcurrent": true,
              "mode": "immediate",
              "transition": {
               "duration": 0,
               "easing": "linear"
              }
             }
            ],
            "label": "2023-05",
            "method": "animate"
           },
           {
            "args": [
             [
              "2023-06"
             ],
             {
              "frame": {
               "duration": 0,
               "redraw": true
              },
              "fromcurrent": true,
              "mode": "immediate",
              "transition": {
               "duration": 0,
               "easing": "linear"
              }
             }
            ],
            "label": "2023-06",
            "method": "animate"
           },
           {
            "args": [
             [
              "2023-07"
             ],
             {
              "frame": {
               "duration": 0,
               "redraw": true
              },
              "fromcurrent": true,
              "mode": "immediate",
              "transition": {
               "duration": 0,
               "easing": "linear"
              }
             }
            ],
            "label": "2023-07",
            "method": "animate"
           },
           {
            "args": [
             [
              "2023-08"
             ],
             {
              "frame": {
               "duration": 0,
               "redraw": true
              },
              "fromcurrent": true,
              "mode": "immediate",
              "transition": {
               "duration": 0,
               "easing": "linear"
              }
             }
            ],
            "label": "2023-08",
            "method": "animate"
           },
           {
            "args": [
             [
              "2023-09"
             ],
             {
              "frame": {
               "duration": 0,
               "redraw": true
              },
              "fromcurrent": true,
              "mode": "immediate",
              "transition": {
               "duration": 0,
               "easing": "linear"
              }
             }
            ],
            "label": "2023-09",
            "method": "animate"
           },
           {
            "args": [
             [
              "2023-10"
             ],
             {
              "frame": {
               "duration": 0,
               "redraw": true
              },
              "fromcurrent": true,
              "mode": "immediate",
              "transition": {
               "duration": 0,
               "easing": "linear"
              }
             }
            ],
            "label": "2023-10",
            "method": "animate"
           },
           {
            "args": [
             [
              "2023-11"
             ],
             {
              "frame": {
               "duration": 0,
               "redraw": true
              },
              "fromcurrent": true,
              "mode": "immediate",
              "transition": {
               "duration": 0,
               "easing": "linear"
              }
             }
            ],
            "label": "2023-11",
            "method": "animate"
           },
           {
            "args": [
             [
              "2023-12"
             ],
             {
              "frame": {
               "duration": 0,
               "redraw": true
              },
              "fromcurrent": true,
              "mode": "immediate",
              "transition": {
               "duration": 0,
               "easing": "linear"
              }
             }
            ],
            "label": "2023-12",
            "method": "animate"
           },
           {
            "args": [
             [
              "2024-01"
             ],
             {
              "frame": {
               "duration": 0,
               "redraw": true
              },
              "fromcurrent": true,
              "mode": "immediate",
              "transition": {
               "duration": 0,
               "easing": "linear"
              }
             }
            ],
            "label": "2024-01",
            "method": "animate"
           },
           {
            "args": [
             [
              "2024-02"
             ],
             {
              "frame": {
               "duration": 0,
               "redraw": true
              },
              "fromcurrent": true,
              "mode": "immediate",
              "transition": {
               "duration": 0,
               "easing": "linear"
              }
             }
            ],
            "label": "2024-02",
            "method": "animate"
           },
           {
            "args": [
             [
              "2024-03"
             ],
             {
              "frame": {
               "duration": 0,
               "redraw": true
              },
              "fromcurrent": true,
              "mode": "immediate",
              "transition": {
               "duration": 0,
               "easing": "linear"
              }
             }
            ],
            "label": "2024-03",
            "method": "animate"
           },
           {
            "args": [
             [
              "2024-04"
             ],
             {
              "frame": {
               "duration": 0,
               "redraw": true
              },
              "fromcurrent": true,
              "mode": "immediate",
              "transition": {
               "duration": 0,
               "easing": "linear"
              }
             }
            ],
            "label": "2024-04",
            "method": "animate"
           },
           {
            "args": [
             [
              "2024-05"
             ],
             {
              "frame": {
               "duration": 0,
               "redraw": true
              },
              "fromcurrent": true,
              "mode": "immediate",
              "transition": {
               "duration": 0,
               "easing": "linear"
              }
             }
            ],
            "label": "2024-05",
            "method": "animate"
           },
           {
            "args": [
             [
              "2024-06"
             ],
             {
              "frame": {
               "duration": 0,
               "redraw": true
              },
              "fromcurrent": true,
              "mode": "immediate",
              "transition": {
               "duration": 0,
               "easing": "linear"
              }
             }
            ],
            "label": "2024-06",
            "method": "animate"
           },
           {
            "args": [
             [
              "2024-07"
             ],
             {
              "frame": {
               "duration": 0,
               "redraw": true
              },
              "fromcurrent": true,
              "mode": "immediate",
              "transition": {
               "duration": 0,
               "easing": "linear"
              }
             }
            ],
            "label": "2024-07",
            "method": "animate"
           },
           {
            "args": [
             [
              "2024-08"
             ],
             {
              "frame": {
               "duration": 0,
               "redraw": true
              },
              "fromcurrent": true,
              "mode": "immediate",
              "transition": {
               "duration": 0,
               "easing": "linear"
              }
             }
            ],
            "label": "2024-08",
            "method": "animate"
           },
           {
            "args": [
             [
              "2024-09"
             ],
             {
              "frame": {
               "duration": 0,
               "redraw": true
              },
              "fromcurrent": true,
              "mode": "immediate",
              "transition": {
               "duration": 0,
               "easing": "linear"
              }
             }
            ],
            "label": "2024-09",
            "method": "animate"
           },
           {
            "args": [
             [
              "2024-10"
             ],
             {
              "frame": {
               "duration": 0,
               "redraw": true
              },
              "fromcurrent": true,
              "mode": "immediate",
              "transition": {
               "duration": 0,
               "easing": "linear"
              }
             }
            ],
            "label": "2024-10",
            "method": "animate"
           },
           {
            "args": [
             [
              "2024-11"
             ],
             {
              "frame": {
               "duration": 0,
               "redraw": true
              },
              "fromcurrent": true,
              "mode": "immediate",
              "transition": {
               "duration": 0,
               "easing": "linear"
              }
             }
            ],
            "label": "2024-11",
            "method": "animate"
           },
           {
            "args": [
             [
              "2024-12"
             ],
             {
              "frame": {
               "duration": 0,
               "redraw": true
              },
              "fromcurrent": true,
              "mode": "immediate",
              "transition": {
               "duration": 0,
               "easing": "linear"
              }
             }
            ],
            "label": "2024-12",
            "method": "animate"
           },
           {
            "args": [
             [
              "2025-01"
             ],
             {
              "frame": {
               "duration": 0,
               "redraw": true
              },
              "fromcurrent": true,
              "mode": "immediate",
              "transition": {
               "duration": 0,
               "easing": "linear"
              }
             }
            ],
            "label": "2025-01",
            "method": "animate"
           },
           {
            "args": [
             [
              "2025-02"
             ],
             {
              "frame": {
               "duration": 0,
               "redraw": true
              },
              "fromcurrent": true,
              "mode": "immediate",
              "transition": {
               "duration": 0,
               "easing": "linear"
              }
             }
            ],
            "label": "2025-02",
            "method": "animate"
           },
           {
            "args": [
             [
              "2025-03"
             ],
             {
              "frame": {
               "duration": 0,
               "redraw": true
              },
              "fromcurrent": true,
              "mode": "immediate",
              "transition": {
               "duration": 0,
               "easing": "linear"
              }
             }
            ],
            "label": "2025-03",
            "method": "animate"
           },
           {
            "args": [
             [
              "2025-04"
             ],
             {
              "frame": {
               "duration": 0,
               "redraw": true
              },
              "fromcurrent": true,
              "mode": "immediate",
              "transition": {
               "duration": 0,
               "easing": "linear"
              }
             }
            ],
            "label": "2025-04",
            "method": "animate"
           }
          ],
          "x": 0.1,
          "xanchor": "left",
          "y": 0,
          "yanchor": "top"
         }
        ],
        "template": {
         "data": {
          "bar": [
           {
            "error_x": {
             "color": "#2a3f5f"
            },
            "error_y": {
             "color": "#2a3f5f"
            },
            "marker": {
             "line": {
              "color": "#E5ECF6",
              "width": 0.5
             },
             "pattern": {
              "fillmode": "overlay",
              "size": 10,
              "solidity": 0.2
             }
            },
            "type": "bar"
           }
          ],
          "barpolar": [
           {
            "marker": {
             "line": {
              "color": "#E5ECF6",
              "width": 0.5
             },
             "pattern": {
              "fillmode": "overlay",
              "size": 10,
              "solidity": 0.2
             }
            },
            "type": "barpolar"
           }
          ],
          "carpet": [
           {
            "aaxis": {
             "endlinecolor": "#2a3f5f",
             "gridcolor": "white",
             "linecolor": "white",
             "minorgridcolor": "white",
             "startlinecolor": "#2a3f5f"
            },
            "baxis": {
             "endlinecolor": "#2a3f5f",
             "gridcolor": "white",
             "linecolor": "white",
             "minorgridcolor": "white",
             "startlinecolor": "#2a3f5f"
            },
            "type": "carpet"
           }
          ],
          "choropleth": [
           {
            "colorbar": {
             "outlinewidth": 0,
             "ticks": ""
            },
            "type": "choropleth"
           }
          ],
          "contour": [
           {
            "colorbar": {
             "outlinewidth": 0,
             "ticks": ""
            },
            "colorscale": [
             [
              0,
              "#0d0887"
             ],
             [
              0.1111111111111111,
              "#46039f"
             ],
             [
              0.2222222222222222,
              "#7201a8"
             ],
             [
              0.3333333333333333,
              "#9c179e"
             ],
             [
              0.4444444444444444,
              "#bd3786"
             ],
             [
              0.5555555555555556,
              "#d8576b"
             ],
             [
              0.6666666666666666,
              "#ed7953"
             ],
             [
              0.7777777777777778,
              "#fb9f3a"
             ],
             [
              0.8888888888888888,
              "#fdca26"
             ],
             [
              1,
              "#f0f921"
             ]
            ],
            "type": "contour"
           }
          ],
          "contourcarpet": [
           {
            "colorbar": {
             "outlinewidth": 0,
             "ticks": ""
            },
            "type": "contourcarpet"
           }
          ],
          "heatmap": [
           {
            "colorbar": {
             "outlinewidth": 0,
             "ticks": ""
            },
            "colorscale": [
             [
              0,
              "#0d0887"
             ],
             [
              0.1111111111111111,
              "#46039f"
             ],
             [
              0.2222222222222222,
              "#7201a8"
             ],
             [
              0.3333333333333333,
              "#9c179e"
             ],
             [
              0.4444444444444444,
              "#bd3786"
             ],
             [
              0.5555555555555556,
              "#d8576b"
             ],
             [
              0.6666666666666666,
              "#ed7953"
             ],
             [
              0.7777777777777778,
              "#fb9f3a"
             ],
             [
              0.8888888888888888,
              "#fdca26"
             ],
             [
              1,
              "#f0f921"
             ]
            ],
            "type": "heatmap"
           }
          ],
          "heatmapgl": [
           {
            "colorbar": {
             "outlinewidth": 0,
             "ticks": ""
            },
            "colorscale": [
             [
              0,
              "#0d0887"
             ],
             [
              0.1111111111111111,
              "#46039f"
             ],
             [
              0.2222222222222222,
              "#7201a8"
             ],
             [
              0.3333333333333333,
              "#9c179e"
             ],
             [
              0.4444444444444444,
              "#bd3786"
             ],
             [
              0.5555555555555556,
              "#d8576b"
             ],
             [
              0.6666666666666666,
              "#ed7953"
             ],
             [
              0.7777777777777778,
              "#fb9f3a"
             ],
             [
              0.8888888888888888,
              "#fdca26"
             ],
             [
              1,
              "#f0f921"
             ]
            ],
            "type": "heatmapgl"
           }
          ],
          "histogram": [
           {
            "marker": {
             "pattern": {
              "fillmode": "overlay",
              "size": 10,
              "solidity": 0.2
             }
            },
            "type": "histogram"
           }
          ],
          "histogram2d": [
           {
            "colorbar": {
             "outlinewidth": 0,
             "ticks": ""
            },
            "colorscale": [
             [
              0,
              "#0d0887"
             ],
             [
              0.1111111111111111,
              "#46039f"
             ],
             [
              0.2222222222222222,
              "#7201a8"
             ],
             [
              0.3333333333333333,
              "#9c179e"
             ],
             [
              0.4444444444444444,
              "#bd3786"
             ],
             [
              0.5555555555555556,
              "#d8576b"
             ],
             [
              0.6666666666666666,
              "#ed7953"
             ],
             [
              0.7777777777777778,
              "#fb9f3a"
             ],
             [
              0.8888888888888888,
              "#fdca26"
             ],
             [
              1,
              "#f0f921"
             ]
            ],
            "type": "histogram2d"
           }
          ],
          "histogram2dcontour": [
           {
            "colorbar": {
             "outlinewidth": 0,
             "ticks": ""
            },
            "colorscale": [
             [
              0,
              "#0d0887"
             ],
             [
              0.1111111111111111,
              "#46039f"
             ],
             [
              0.2222222222222222,
              "#7201a8"
             ],
             [
              0.3333333333333333,
              "#9c179e"
             ],
             [
              0.4444444444444444,
              "#bd3786"
             ],
             [
              0.5555555555555556,
              "#d8576b"
             ],
             [
              0.6666666666666666,
              "#ed7953"
             ],
             [
              0.7777777777777778,
              "#fb9f3a"
             ],
             [
              0.8888888888888888,
              "#fdca26"
             ],
             [
              1,
              "#f0f921"
             ]
            ],
            "type": "histogram2dcontour"
           }
          ],
          "mesh3d": [
           {
            "colorbar": {
             "outlinewidth": 0,
             "ticks": ""
            },
            "type": "mesh3d"
           }
          ],
          "parcoords": [
           {
            "line": {
             "colorbar": {
              "outlinewidth": 0,
              "ticks": ""
             }
            },
            "type": "parcoords"
           }
          ],
          "pie": [
           {
            "automargin": true,
            "type": "pie"
           }
          ],
          "scatter": [
           {
            "fillpattern": {
             "fillmode": "overlay",
             "size": 10,
             "solidity": 0.2
            },
            "type": "scatter"
           }
          ],
          "scatter3d": [
           {
            "line": {
             "colorbar": {
              "outlinewidth": 0,
              "ticks": ""
             }
            },
            "marker": {
             "colorbar": {
              "outlinewidth": 0,
              "ticks": ""
             }
            },
            "type": "scatter3d"
           }
          ],
          "scattercarpet": [
           {
            "marker": {
             "colorbar": {
              "outlinewidth": 0,
              "ticks": ""
             }
            },
            "type": "scattercarpet"
           }
          ],
          "scattergeo": [
           {
            "marker": {
             "colorbar": {
              "outlinewidth": 0,
              "ticks": ""
             }
            },
            "type": "scattergeo"
           }
          ],
          "scattergl": [
           {
            "marker": {
             "colorbar": {
              "outlinewidth": 0,
              "ticks": ""
             }
            },
            "type": "scattergl"
           }
          ],
          "scattermapbox": [
           {
            "marker": {
             "colorbar": {
              "outlinewidth": 0,
              "ticks": ""
             }
            },
            "type": "scattermapbox"
           }
          ],
          "scatterpolar": [
           {
            "marker": {
             "colorbar": {
              "outlinewidth": 0,
              "ticks": ""
             }
            },
            "type": "scatterpolar"
           }
          ],
          "scatterpolargl": [
           {
            "marker": {
             "colorbar": {
              "outlinewidth": 0,
              "ticks": ""
             }
            },
            "type": "scatterpolargl"
           }
          ],
          "scatterternary": [
           {
            "marker": {
             "colorbar": {
              "outlinewidth": 0,
              "ticks": ""
             }
            },
            "type": "scatterternary"
           }
          ],
          "surface": [
           {
            "colorbar": {
             "outlinewidth": 0,
             "ticks": ""
            },
            "colorscale": [
             [
              0,
              "#0d0887"
             ],
             [
              0.1111111111111111,
              "#46039f"
             ],
             [
              0.2222222222222222,
              "#7201a8"
             ],
             [
              0.3333333333333333,
              "#9c179e"
             ],
             [
              0.4444444444444444,
              "#bd3786"
             ],
             [
              0.5555555555555556,
              "#d8576b"
             ],
             [
              0.6666666666666666,
              "#ed7953"
             ],
             [
              0.7777777777777778,
              "#fb9f3a"
             ],
             [
              0.8888888888888888,
              "#fdca26"
             ],
             [
              1,
              "#f0f921"
             ]
            ],
            "type": "surface"
           }
          ],
          "table": [
           {
            "cells": {
             "fill": {
              "color": "#EBF0F8"
             },
             "line": {
              "color": "white"
             }
            },
            "header": {
             "fill": {
              "color": "#C8D4E3"
             },
             "line": {
              "color": "white"
             }
            },
            "type": "table"
           }
          ]
         },
         "layout": {
          "annotationdefaults": {
           "arrowcolor": "#2a3f5f",
           "arrowhead": 0,
           "arrowwidth": 1
          },
          "autotypenumbers": "strict",
          "coloraxis": {
           "colorbar": {
            "outlinewidth": 0,
            "ticks": ""
           }
          },
          "colorscale": {
           "diverging": [
            [
             0,
             "#8e0152"
            ],
            [
             0.1,
             "#c51b7d"
            ],
            [
             0.2,
             "#de77ae"
            ],
            [
             0.3,
             "#f1b6da"
            ],
            [
             0.4,
             "#fde0ef"
            ],
            [
             0.5,
             "#f7f7f7"
            ],
            [
             0.6,
             "#e6f5d0"
            ],
            [
             0.7,
             "#b8e186"
            ],
            [
             0.8,
             "#7fbc41"
            ],
            [
             0.9,
             "#4d9221"
            ],
            [
             1,
             "#276419"
            ]
           ],
           "sequential": [
            [
             0,
             "#0d0887"
            ],
            [
             0.1111111111111111,
             "#46039f"
            ],
            [
             0.2222222222222222,
             "#7201a8"
            ],
            [
             0.3333333333333333,
             "#9c179e"
            ],
            [
             0.4444444444444444,
             "#bd3786"
            ],
            [
             0.5555555555555556,
             "#d8576b"
            ],
            [
             0.6666666666666666,
             "#ed7953"
            ],
            [
             0.7777777777777778,
             "#fb9f3a"
            ],
            [
             0.8888888888888888,
             "#fdca26"
            ],
            [
             1,
             "#f0f921"
            ]
           ],
           "sequentialminus": [
            [
             0,
             "#0d0887"
            ],
            [
             0.1111111111111111,
             "#46039f"
            ],
            [
             0.2222222222222222,
             "#7201a8"
            ],
            [
             0.3333333333333333,
             "#9c179e"
            ],
            [
             0.4444444444444444,
             "#bd3786"
            ],
            [
             0.5555555555555556,
             "#d8576b"
            ],
            [
             0.6666666666666666,
             "#ed7953"
            ],
            [
             0.7777777777777778,
             "#fb9f3a"
            ],
            [
             0.8888888888888888,
             "#fdca26"
            ],
            [
             1,
             "#f0f921"
            ]
           ]
          },
          "colorway": [
           "#636efa",
           "#EF553B",
           "#00cc96",
           "#ab63fa",
           "#FFA15A",
           "#19d3f3",
           "#FF6692",
           "#B6E880",
           "#FF97FF",
           "#FECB52"
          ],
          "font": {
           "color": "#2a3f5f"
          },
          "geo": {
           "bgcolor": "white",
           "lakecolor": "white",
           "landcolor": "#E5ECF6",
           "showlakes": true,
           "showland": true,
           "subunitcolor": "white"
          },
          "hoverlabel": {
           "align": "left"
          },
          "hovermode": "closest",
          "mapbox": {
           "style": "light"
          },
          "paper_bgcolor": "white",
          "plot_bgcolor": "#E5ECF6",
          "polar": {
           "angularaxis": {
            "gridcolor": "white",
            "linecolor": "white",
            "ticks": ""
           },
           "bgcolor": "#E5ECF6",
           "radialaxis": {
            "gridcolor": "white",
            "linecolor": "white",
            "ticks": ""
           }
          },
          "scene": {
           "xaxis": {
            "backgroundcolor": "#E5ECF6",
            "gridcolor": "white",
            "gridwidth": 2,
            "linecolor": "white",
            "showbackground": true,
            "ticks": "",
            "zerolinecolor": "white"
           },
           "yaxis": {
            "backgroundcolor": "#E5ECF6",
            "gridcolor": "white",
            "gridwidth": 2,
            "linecolor": "white",
            "showbackground": true,
            "ticks": "",
            "zerolinecolor": "white"
           },
           "zaxis": {
            "backgroundcolor": "#E5ECF6",
            "gridcolor": "white",
            "gridwidth": 2,
            "linecolor": "white",
            "showbackground": true,
            "ticks": "",
            "zerolinecolor": "white"
           }
          },
          "shapedefaults": {
           "line": {
            "color": "#2a3f5f"
           }
          },
          "ternary": {
           "aaxis": {
            "gridcolor": "white",
            "linecolor": "white",
            "ticks": ""
           },
           "baxis": {
            "gridcolor": "white",
            "linecolor": "white",
            "ticks": ""
           },
           "bgcolor": "#E5ECF6",
           "caxis": {
            "gridcolor": "white",
            "linecolor": "white",
            "ticks": ""
           }
          },
          "title": {
           "x": 0.05
          },
          "xaxis": {
           "automargin": true,
           "gridcolor": "white",
           "linecolor": "white",
           "ticks": "",
           "title": {
            "standoff": 15
           },
           "zerolinecolor": "white",
           "zerolinewidth": 2
          },
          "yaxis": {
           "automargin": true,
           "gridcolor": "white",
           "linecolor": "white",
           "ticks": "",
           "title": {
            "standoff": 15
           },
           "zerolinecolor": "white",
           "zerolinewidth": 2
          }
         }
        },
        "title": {
         "text": "🌍 Barrières commerciales annoncées (2023–2025)",
         "x": 0.5
        },
        "updatemenus": [
         {
          "buttons": [
           {
            "args": [
             null,
             {
              "frame": {
               "duration": 500,
               "redraw": true
              },
              "fromcurrent": true,
              "mode": "immediate",
              "transition": {
               "duration": 500,
               "easing": "linear"
              }
             }
            ],
            "label": "&#9654;",
            "method": "animate"
           },
           {
            "args": [
             [
              null
             ],
             {
              "frame": {
               "duration": 0,
               "redraw": true
              },
              "fromcurrent": true,
              "mode": "immediate",
              "transition": {
               "duration": 0,
               "easing": "linear"
              }
             }
            ],
            "label": "&#9724;",
            "method": "animate"
           }
          ],
          "direction": "left",
          "pad": {
           "r": 10,
           "t": 70
          },
          "showactive": false,
          "type": "buttons",
          "x": 0.1,
          "xanchor": "right",
          "y": 0,
          "yanchor": "top"
         }
        ],
        "width": 1000
       }
      }
     },
     "metadata": {},
     "output_type": "display_data"
    }
   ],
   "source": [
    "import pandas as pd\n",
    "import plotly.express as px\n",
    "\n",
    "# Charger ton fichier (ajuste le chemin si besoin)\n",
    "\n",
    "df = pd.read_csv(\"C:\\\\Users\\\\Shpet\\\\Desktop\\\\data-center-export (2).csv\")\n",
    "\n",
    "df = df.dropna(subset=[\"Year announced\", \"Month announced\"])\n",
    "df[\"Value\"] = pd.to_numeric(df[\"Value\"], errors=\"coerce\")\n",
    "df[\"Year announced\"] = pd.to_numeric(df[\"Year announced\"], errors=\"coerce\")\n",
    "df[\"Month announced\"] = pd.to_numeric(df[\"Month announced\"], errors=\"coerce\")\n",
    "\n",
    "# Fusionner année + mois\n",
    "df[\"date\"] = pd.to_datetime(\n",
    "    df[\"Year announced\"].astype(int).astype(str) + \"-\" +\n",
    "    df[\"Month announced\"].astype(int).astype(str).str.zfill(2),\n",
    "    format=\"%Y-%m\"\n",
    ")\n",
    "\n",
    "# Regrouper les mesures par pays et mois\n",
    "summary = df.groupby([\"Implementer\", \"date\"])[\"Value\"].sum().reset_index()\n",
    "summary.columns = [\"country\", \"date\", \"barriers\"]\n",
    "\n",
    "# 🔍 Focus sur la période actuelle\n",
    "summary = summary[summary[\"date\"].between(\"2023-01\", \"2025-12\")]\n",
    "summary[\"date_str\"] = summary[\"date\"].dt.strftime(\"%Y-%m\")\n",
    "\n",
    "# Palette rouge-orangée\n",
    "color_scale = [\n",
    "    [0.0, \"#ffffb2\"],\n",
    "    [0.25, \"#fecc5c\"],\n",
    "    [0.5, \"#fd8d3c\"],\n",
    "    [0.75, \"#f03b20\"],\n",
    "    [1.0, \"#bd0026\"]\n",
    "]\n",
    "\n",
    "# Créer la carte animée\n",
    "fig = px.choropleth(\n",
    "    summary,\n",
    "    locations=\"country\",\n",
    "    locationmode=\"country names\",\n",
    "    color=\"barriers\",\n",
    "    animation_frame=\"date_str\",\n",
    "    color_continuous_scale=color_scale,\n",
    "    range_color=(0, 150),\n",
    "    title=\"🌍 Barrières commerciales annoncées (2023–2025)\"\n",
    ")\n",
    "\n",
    "# Mise en page + sous-titre + annotation\n",
    "fig.update_layout(\n",
    "    geo=dict(\n",
    "        showframe=False,\n",
    "        projection_type=\"natural earth\",\n",
    "        bgcolor='rgba(0,0,0,0)'\n",
    "    ),\n",
    "    title_x=0.5,\n",
    "    width=1000,\n",
    "    height=600,\n",
    "    margin=dict(l=0, r=0, t=60, b=50),\n",
    "    annotations=[\n",
    "        dict(\n",
    "            x=0.5,\n",
    "            y=-0.12,\n",
    "            xref='paper',\n",
    "            yref='paper',\n",
    "            text=\"Source : Global Trade Alert (avril 2025) • Mise en évidence de l'intensification des tensions géopolitiques\",\n",
    "            showarrow=False,\n",
    "            font=dict(size=12, color=\"gray\")\n",
    "        )\n",
    "    ]\n",
    ")\n",
    "\n",
    "# Export en HTML\n",
    "fig.show()"
   ]
  },
  {
   "cell_type": "code",
   "execution_count": null,
   "id": "0d60aff2",
   "metadata": {},
   "outputs": [
    {
     "data": {
      "text/html": [
       "<div>\n",
       "<style scoped>\n",
       "    .dataframe tbody tr th:only-of-type {\n",
       "        vertical-align: middle;\n",
       "    }\n",
       "\n",
       "    .dataframe tbody tr th {\n",
       "        vertical-align: top;\n",
       "    }\n",
       "\n",
       "    .dataframe thead th {\n",
       "        text-align: right;\n",
       "    }\n",
       "</style>\n",
       "<table border=\"1\" class=\"dataframe\">\n",
       "  <thead>\n",
       "    <tr style=\"text-align: right;\">\n",
       "      <th></th>\n",
       "      <th>Value</th>\n",
       "      <th>Year announced</th>\n",
       "      <th>Month announced</th>\n",
       "      <th>Implementer</th>\n",
       "      <th>Implementer ISO</th>\n",
       "      <th>date</th>\n",
       "    </tr>\n",
       "  </thead>\n",
       "  <tbody>\n",
       "    <tr>\n",
       "      <th>0</th>\n",
       "      <td>15</td>\n",
       "      <td>2025</td>\n",
       "      <td>2</td>\n",
       "      <td>Brazil</td>\n",
       "      <td>BRA</td>\n",
       "      <td>2025-02-01</td>\n",
       "    </tr>\n",
       "    <tr>\n",
       "      <th>1</th>\n",
       "      <td>33</td>\n",
       "      <td>2025</td>\n",
       "      <td>2</td>\n",
       "      <td>France</td>\n",
       "      <td>FRA</td>\n",
       "      <td>2025-02-01</td>\n",
       "    </tr>\n",
       "    <tr>\n",
       "      <th>2</th>\n",
       "      <td>13</td>\n",
       "      <td>2025</td>\n",
       "      <td>3</td>\n",
       "      <td>India</td>\n",
       "      <td>IND</td>\n",
       "      <td>2025-03-01</td>\n",
       "    </tr>\n",
       "    <tr>\n",
       "      <th>3</th>\n",
       "      <td>13</td>\n",
       "      <td>2025</td>\n",
       "      <td>2</td>\n",
       "      <td>China</td>\n",
       "      <td>CHN</td>\n",
       "      <td>2025-02-01</td>\n",
       "    </tr>\n",
       "    <tr>\n",
       "      <th>4</th>\n",
       "      <td>10</td>\n",
       "      <td>2025</td>\n",
       "      <td>1</td>\n",
       "      <td>Japan</td>\n",
       "      <td>JPN</td>\n",
       "      <td>2025-01-01</td>\n",
       "    </tr>\n",
       "    <tr>\n",
       "      <th>...</th>\n",
       "      <td>...</td>\n",
       "      <td>...</td>\n",
       "      <td>...</td>\n",
       "      <td>...</td>\n",
       "      <td>...</td>\n",
       "      <td>...</td>\n",
       "    </tr>\n",
       "    <tr>\n",
       "      <th>1570</th>\n",
       "      <td>3</td>\n",
       "      <td>2008</td>\n",
       "      <td>10</td>\n",
       "      <td>Germany</td>\n",
       "      <td>DEU</td>\n",
       "      <td>2008-10-01</td>\n",
       "    </tr>\n",
       "    <tr>\n",
       "      <th>1571</th>\n",
       "      <td>12</td>\n",
       "      <td>2008</td>\n",
       "      <td>11</td>\n",
       "      <td>China</td>\n",
       "      <td>CHN</td>\n",
       "      <td>2008-11-01</td>\n",
       "    </tr>\n",
       "    <tr>\n",
       "      <th>1572</th>\n",
       "      <td>1</td>\n",
       "      <td>2008</td>\n",
       "      <td>10</td>\n",
       "      <td>China</td>\n",
       "      <td>CHN</td>\n",
       "      <td>2008-10-01</td>\n",
       "    </tr>\n",
       "    <tr>\n",
       "      <th>1573</th>\n",
       "      <td>26</td>\n",
       "      <td>2008</td>\n",
       "      <td>12</td>\n",
       "      <td>France</td>\n",
       "      <td>FRA</td>\n",
       "      <td>2008-12-01</td>\n",
       "    </tr>\n",
       "    <tr>\n",
       "      <th>1574</th>\n",
       "      <td>32</td>\n",
       "      <td>2008</td>\n",
       "      <td>11</td>\n",
       "      <td>Brazil</td>\n",
       "      <td>BRA</td>\n",
       "      <td>2008-11-01</td>\n",
       "    </tr>\n",
       "  </tbody>\n",
       "</table>\n",
       "<p>1575 rows × 6 columns</p>\n",
       "</div>"
      ],
      "text/plain": [
       "      Value  Year announced  Month announced Implementer Implementer ISO  \\\n",
       "0        15            2025                2      Brazil             BRA   \n",
       "1        33            2025                2      France             FRA   \n",
       "2        13            2025                3       India             IND   \n",
       "3        13            2025                2       China             CHN   \n",
       "4        10            2025                1       Japan             JPN   \n",
       "...     ...             ...              ...         ...             ...   \n",
       "1570      3            2008               10     Germany             DEU   \n",
       "1571     12            2008               11       China             CHN   \n",
       "1572      1            2008               10       China             CHN   \n",
       "1573     26            2008               12      France             FRA   \n",
       "1574     32            2008               11      Brazil             BRA   \n",
       "\n",
       "           date  \n",
       "0    2025-02-01  \n",
       "1    2025-02-01  \n",
       "2    2025-03-01  \n",
       "3    2025-02-01  \n",
       "4    2025-01-01  \n",
       "...         ...  \n",
       "1570 2008-10-01  \n",
       "1571 2008-11-01  \n",
       "1572 2008-10-01  \n",
       "1573 2008-12-01  \n",
       "1574 2008-11-01  \n",
       "\n",
       "[1575 rows x 6 columns]"
      ]
     },
     "execution_count": 27,
     "metadata": {},
     "output_type": "execute_result"
    }
   ],
   "source": [
    "fig.write_html(\"C:\\\\Users\\\\Shpet\\\\Desktop\\\\barrier_map_2023_2025.html\")\n"
   ]
  },
  {
   "cell_type": "code",
   "execution_count": 47,
   "id": "5fc310a0",
   "metadata": {},
   "outputs": [
    {
     "data": {
      "application/vnd.plotly.v1+json": {
       "config": {
        "plotlyServerURL": "https://plot.ly"
       },
       "data": [
        {
         "coloraxis": "coloraxis",
         "geo": "geo",
         "hovertemplate": "date_str=2023-01<br>country=%{location}<br>products_affected=%{z}<extra></extra>",
         "locationmode": "country names",
         "locations": [
          "Brazil",
          "China",
          "France",
          "Germany",
          "India",
          "Japan",
          "Russia",
          "United States of America"
         ],
         "name": "",
         "type": "choropleth",
         "z": [
          6,
          2692,
          38,
          127,
          54,
          5623,
          62,
          356
         ]
        }
       ],
       "frames": [
        {
         "data": [
          {
           "coloraxis": "coloraxis",
           "geo": "geo",
           "hovertemplate": "date_str=2023-01<br>country=%{location}<br>products_affected=%{z}<extra></extra>",
           "locationmode": "country names",
           "locations": [
            "Brazil",
            "China",
            "France",
            "Germany",
            "India",
            "Japan",
            "Russia",
            "United States of America"
           ],
           "name": "",
           "type": "choropleth",
           "z": [
            6,
            2692,
            38,
            127,
            54,
            5623,
            62,
            356
           ]
          }
         ],
         "name": "2023-01"
        },
        {
         "data": [
          {
           "coloraxis": "coloraxis",
           "geo": "geo",
           "hovertemplate": "date_str=2023-02<br>country=%{location}<br>products_affected=%{z}<extra></extra>",
           "locationmode": "country names",
           "locations": [
            "Brazil",
            "China",
            "France",
            "Germany",
            "India",
            "Japan",
            "Russia",
            "United States of America"
           ],
           "name": "",
           "type": "choropleth",
           "z": [
            3,
            4091,
            1686,
            979,
            3119,
            382,
            35,
            1256
           ]
          }
         ],
         "name": "2023-02"
        },
        {
         "data": [
          {
           "coloraxis": "coloraxis",
           "geo": "geo",
           "hovertemplate": "date_str=2023-03<br>country=%{location}<br>products_affected=%{z}<extra></extra>",
           "locationmode": "country names",
           "locations": [
            "Brazil",
            "China",
            "France",
            "Germany",
            "India",
            "Japan",
            "Russia",
            "United States of America"
           ],
           "name": "",
           "type": "choropleth",
           "z": [
            470,
            446,
            116,
            132,
            524,
            166,
            32,
            975
           ]
          }
         ],
         "name": "2023-03"
        },
        {
         "data": [
          {
           "coloraxis": "coloraxis",
           "geo": "geo",
           "hovertemplate": "date_str=2023-04<br>country=%{location}<br>products_affected=%{z}<extra></extra>",
           "locationmode": "country names",
           "locations": [
            "Brazil",
            "China",
            "France",
            "Germany",
            "India",
            "Japan",
            "Russia",
            "United States of America"
           ],
           "name": "",
           "type": "choropleth",
           "z": [
            41,
            461,
            18,
            100,
            23,
            42,
            27,
            995
           ]
          }
         ],
         "name": "2023-04"
        },
        {
         "data": [
          {
           "coloraxis": "coloraxis",
           "geo": "geo",
           "hovertemplate": "date_str=2023-05<br>country=%{location}<br>products_affected=%{z}<extra></extra>",
           "locationmode": "country names",
           "locations": [
            "Brazil",
            "China",
            "France",
            "Germany",
            "India",
            "Japan",
            "Russia",
            "United States of America"
           ],
           "name": "",
           "type": "choropleth",
           "z": [
            317,
            30,
            169,
            20,
            139,
            10,
            46,
            1780
           ]
          }
         ],
         "name": "2023-05"
        },
        {
         "data": [
          {
           "coloraxis": "coloraxis",
           "geo": "geo",
           "hovertemplate": "date_str=2023-06<br>country=%{location}<br>products_affected=%{z}<extra></extra>",
           "locationmode": "country names",
           "locations": [
            "Brazil",
            "China",
            "France",
            "Germany",
            "India",
            "Japan",
            "Russia",
            "United States of America"
           ],
           "name": "",
           "type": "choropleth",
           "z": [
            72,
            187,
            1267,
            1271,
            53,
            48,
            37,
            1085
           ]
          }
         ],
         "name": "2023-06"
        },
        {
         "data": [
          {
           "coloraxis": "coloraxis",
           "geo": "geo",
           "hovertemplate": "date_str=2023-07<br>country=%{location}<br>products_affected=%{z}<extra></extra>",
           "locationmode": "country names",
           "locations": [
            "Brazil",
            "China",
            "France",
            "Germany",
            "India",
            "Japan",
            "Russia",
            "United States of America"
           ],
           "name": "",
           "type": "choropleth",
           "z": [
            58,
            251,
            51,
            351,
            29,
            471,
            39,
            361
           ]
          }
         ],
         "name": "2023-07"
        },
        {
         "data": [
          {
           "coloraxis": "coloraxis",
           "geo": "geo",
           "hovertemplate": "date_str=2023-08<br>country=%{location}<br>products_affected=%{z}<extra></extra>",
           "locationmode": "country names",
           "locations": [
            "Brazil",
            "China",
            "France",
            "Germany",
            "India",
            "Russia",
            "United States of America"
           ],
           "name": "",
           "type": "choropleth",
           "z": [
            193,
            110,
            8,
            666,
            60,
            19,
            442
           ]
          }
         ],
         "name": "2023-08"
        },
        {
         "data": [
          {
           "coloraxis": "coloraxis",
           "geo": "geo",
           "hovertemplate": "date_str=2023-09<br>country=%{location}<br>products_affected=%{z}<extra></extra>",
           "locationmode": "country names",
           "locations": [
            "Brazil",
            "China",
            "France",
            "Germany",
            "India",
            "Japan",
            "Russia",
            "United States of America"
           ],
           "name": "",
           "type": "choropleth",
           "z": [
            323,
            174,
            45,
            220,
            79,
            16,
            1136,
            1393
           ]
          }
         ],
         "name": "2023-09"
        },
        {
         "data": [
          {
           "coloraxis": "coloraxis",
           "geo": "geo",
           "hovertemplate": "date_str=2023-10<br>country=%{location}<br>products_affected=%{z}<extra></extra>",
           "locationmode": "country names",
           "locations": [
            "Brazil",
            "China",
            "France",
            "Germany",
            "India",
            "Japan",
            "Russia",
            "United States of America"
           ],
           "name": "",
           "type": "choropleth",
           "z": [
            21,
            48,
            54,
            40,
            152,
            34,
            80,
            961
           ]
          }
         ],
         "name": "2023-10"
        },
        {
         "data": [
          {
           "coloraxis": "coloraxis",
           "geo": "geo",
           "hovertemplate": "date_str=2023-11<br>country=%{location}<br>products_affected=%{z}<extra></extra>",
           "locationmode": "country names",
           "locations": [
            "Brazil",
            "China",
            "France",
            "Germany",
            "India",
            "Japan",
            "Russia",
            "United States of America"
           ],
           "name": "",
           "type": "choropleth",
           "z": [
            615,
            84,
            30,
            59,
            30,
            6,
            1070,
            1073
           ]
          }
         ],
         "name": "2023-11"
        },
        {
         "data": [
          {
           "coloraxis": "coloraxis",
           "geo": "geo",
           "hovertemplate": "date_str=2023-12<br>country=%{location}<br>products_affected=%{z}<extra></extra>",
           "locationmode": "country names",
           "locations": [
            "Brazil",
            "China",
            "France",
            "Germany",
            "India",
            "Japan",
            "Russia",
            "United States of America"
           ],
           "name": "",
           "type": "choropleth",
           "z": [
            458,
            4079,
            1295,
            1252,
            36,
            20,
            2075,
            1750
           ]
          }
         ],
         "name": "2023-12"
        },
        {
         "data": [
          {
           "coloraxis": "coloraxis",
           "geo": "geo",
           "hovertemplate": "date_str=2024-01<br>country=%{location}<br>products_affected=%{z}<extra></extra>",
           "locationmode": "country names",
           "locations": [
            "Brazil",
            "China",
            "France",
            "Germany",
            "India",
            "Japan",
            "Russia",
            "United States of America"
           ],
           "name": "",
           "type": "choropleth",
           "z": [
            290,
            4,
            235,
            37,
            62,
            18,
            931,
            318
           ]
          }
         ],
         "name": "2024-01"
        },
        {
         "data": [
          {
           "coloraxis": "coloraxis",
           "geo": "geo",
           "hovertemplate": "date_str=2024-02<br>country=%{location}<br>products_affected=%{z}<extra></extra>",
           "locationmode": "country names",
           "locations": [
            "Brazil",
            "China",
            "France",
            "Germany",
            "India",
            "Japan",
            "Russia",
            "United States of America"
           ],
           "name": "",
           "type": "choropleth",
           "z": [
            343,
            303,
            942,
            1401,
            2667,
            30,
            948,
            939
           ]
          }
         ],
         "name": "2024-02"
        },
        {
         "data": [
          {
           "coloraxis": "coloraxis",
           "geo": "geo",
           "hovertemplate": "date_str=2024-03<br>country=%{location}<br>products_affected=%{z}<extra></extra>",
           "locationmode": "country names",
           "locations": [
            "Brazil",
            "China",
            "France",
            "Germany",
            "India",
            "Japan",
            "Russia",
            "United States of America"
           ],
           "name": "",
           "type": "choropleth",
           "z": [
            312,
            333,
            83,
            100,
            2648,
            27,
            40,
            260
           ]
          }
         ],
         "name": "2024-03"
        },
        {
         "data": [
          {
           "coloraxis": "coloraxis",
           "geo": "geo",
           "hovertemplate": "date_str=2024-04<br>country=%{location}<br>products_affected=%{z}<extra></extra>",
           "locationmode": "country names",
           "locations": [
            "Brazil",
            "China",
            "France",
            "Germany",
            "India",
            "Japan",
            "Russia",
            "United States of America"
           ],
           "name": "",
           "type": "choropleth",
           "z": [
            276,
            557,
            8,
            11,
            126,
            159,
            57,
            1063
           ]
          }
         ],
         "name": "2024-04"
        },
        {
         "data": [
          {
           "coloraxis": "coloraxis",
           "geo": "geo",
           "hovertemplate": "date_str=2024-05<br>country=%{location}<br>products_affected=%{z}<extra></extra>",
           "locationmode": "country names",
           "locations": [
            "Brazil",
            "China",
            "France",
            "Germany",
            "India",
            "Japan",
            "Russia",
            "United States of America"
           ],
           "name": "",
           "type": "choropleth",
           "z": [
            155,
            638,
            416,
            632,
            17,
            10,
            37,
            1065
           ]
          }
         ],
         "name": "2024-05"
        },
        {
         "data": [
          {
           "coloraxis": "coloraxis",
           "geo": "geo",
           "hovertemplate": "date_str=2024-06<br>country=%{location}<br>products_affected=%{z}<extra></extra>",
           "locationmode": "country names",
           "locations": [
            "Brazil",
            "China",
            "France",
            "Germany",
            "India",
            "Japan",
            "Russia",
            "United States of America"
           ],
           "name": "",
           "type": "choropleth",
           "z": [
            288,
            390,
            2278,
            2261,
            60,
            7,
            1026,
            943
           ]
          }
         ],
         "name": "2024-06"
        },
        {
         "data": [
          {
           "coloraxis": "coloraxis",
           "geo": "geo",
           "hovertemplate": "date_str=2024-07<br>country=%{location}<br>products_affected=%{z}<extra></extra>",
           "locationmode": "country names",
           "locations": [
            "Brazil",
            "China",
            "France",
            "Germany",
            "India",
            "Japan",
            "Russia",
            "United States of America"
           ],
           "name": "",
           "type": "choropleth",
           "z": [
            303,
            622,
            136,
            747,
            576,
            6,
            14,
            979
           ]
          }
         ],
         "name": "2024-07"
        },
        {
         "data": [
          {
           "coloraxis": "coloraxis",
           "geo": "geo",
           "hovertemplate": "date_str=2024-08<br>country=%{location}<br>products_affected=%{z}<extra></extra>",
           "locationmode": "country names",
           "locations": [
            "Brazil",
            "China",
            "France",
            "Germany",
            "India",
            "Japan",
            "Russia",
            "United States of America"
           ],
           "name": "",
           "type": "choropleth",
           "z": [
            288,
            165,
            22,
            303,
            189,
            8,
            31,
            196
           ]
          }
         ],
         "name": "2024-08"
        },
        {
         "data": [
          {
           "coloraxis": "coloraxis",
           "geo": "geo",
           "hovertemplate": "date_str=2024-09<br>country=%{location}<br>products_affected=%{z}<extra></extra>",
           "locationmode": "country names",
           "locations": [
            "Brazil",
            "China",
            "France",
            "Germany",
            "India",
            "Japan",
            "Russia",
            "United States of America"
           ],
           "name": "",
           "type": "choropleth",
           "z": [
            492,
            695,
            103,
            123,
            241,
            20,
            954,
            950
           ]
          }
         ],
         "name": "2024-09"
        },
        {
         "data": [
          {
           "coloraxis": "coloraxis",
           "geo": "geo",
           "hovertemplate": "date_str=2024-10<br>country=%{location}<br>products_affected=%{z}<extra></extra>",
           "locationmode": "country names",
           "locations": [
            "Brazil",
            "China",
            "France",
            "Germany",
            "India",
            "Japan",
            "Russia",
            "United States of America"
           ],
           "name": "",
           "type": "choropleth",
           "z": [
            357,
            46,
            15,
            402,
            437,
            5,
            938,
            997
           ]
          }
         ],
         "name": "2024-10"
        },
        {
         "data": [
          {
           "coloraxis": "coloraxis",
           "geo": "geo",
           "hovertemplate": "date_str=2024-11<br>country=%{location}<br>products_affected=%{z}<extra></extra>",
           "locationmode": "country names",
           "locations": [
            "Brazil",
            "China",
            "France",
            "Germany",
            "India",
            "Japan",
            "Russia",
            "United States of America"
           ],
           "name": "",
           "type": "choropleth",
           "z": [
            288,
            191,
            309,
            323,
            65,
            28,
            38,
            355
           ]
          }
         ],
         "name": "2024-11"
        },
        {
         "data": [
          {
           "coloraxis": "coloraxis",
           "geo": "geo",
           "hovertemplate": "date_str=2024-12<br>country=%{location}<br>products_affected=%{z}<extra></extra>",
           "locationmode": "country names",
           "locations": [
            "Brazil",
            "China",
            "France",
            "Germany",
            "India",
            "Japan",
            "Russia",
            "United States of America"
           ],
           "name": "",
           "type": "choropleth",
           "z": [
            310,
            836,
            2040,
            1671,
            42,
            9,
            431,
            1101
           ]
          }
         ],
         "name": "2024-12"
        },
        {
         "data": [
          {
           "coloraxis": "coloraxis",
           "geo": "geo",
           "hovertemplate": "date_str=2025-01<br>country=%{location}<br>products_affected=%{z}<extra></extra>",
           "locationmode": "country names",
           "locations": [
            "Brazil",
            "China",
            "France",
            "Germany",
            "India",
            "Japan",
            "Russia",
            "United States of America"
           ],
           "name": "",
           "type": "choropleth",
           "z": [
            404,
            325,
            1,
            27,
            182,
            2468,
            135,
            4849
           ]
          }
         ],
         "name": "2025-01"
        },
        {
         "data": [
          {
           "coloraxis": "coloraxis",
           "geo": "geo",
           "hovertemplate": "date_str=2025-02<br>country=%{location}<br>products_affected=%{z}<extra></extra>",
           "locationmode": "country names",
           "locations": [
            "Brazil",
            "China",
            "France",
            "Germany",
            "India",
            "Japan",
            "Russia",
            "United States of America"
           ],
           "name": "",
           "type": "choropleth",
           "z": [
            393,
            110,
            731,
            732,
            2230,
            24,
            1245,
            4815
           ]
          }
         ],
         "name": "2025-02"
        },
        {
         "data": [
          {
           "coloraxis": "coloraxis",
           "geo": "geo",
           "hovertemplate": "date_str=2025-03<br>country=%{location}<br>products_affected=%{z}<extra></extra>",
           "locationmode": "country names",
           "locations": [
            "Brazil",
            "China",
            "France",
            "Germany",
            "India",
            "Japan",
            "Russia",
            "United States of America"
           ],
           "name": "",
           "type": "choropleth",
           "z": [
            31,
            629,
            1078,
            1524,
            34,
            72,
            206,
            4860
           ]
          }
         ],
         "name": "2025-03"
        },
        {
         "data": [
          {
           "coloraxis": "coloraxis",
           "geo": "geo",
           "hovertemplate": "date_str=2025-04<br>country=%{location}<br>products_affected=%{z}<extra></extra>",
           "locationmode": "country names",
           "locations": [
            "China",
            "Japan",
            "United States of America"
           ],
           "name": "",
           "type": "choropleth",
           "z": [
            4059,
            92,
            4809
           ]
          }
         ],
         "name": "2025-04"
        }
       ],
       "layout": {
        "annotations": [
         {
          "font": {
           "color": "gray",
           "size": 12
          },
          "showarrow": false,
          "text": "Source : Global Trade Alert • Nombre de produits visés par des mesures commerciales (non pondéré)",
          "x": 0.5,
          "xref": "paper",
          "y": -0.12,
          "yref": "paper"
         }
        ],
        "coloraxis": {
         "cmax": 5623,
         "cmin": 0,
         "colorbar": {
          "title": {
           "text": "products_affected"
          }
         },
         "colorscale": [
          [
           0,
           "rgb(255,245,240)"
          ],
          [
           0.125,
           "rgb(254,224,210)"
          ],
          [
           0.25,
           "rgb(252,187,161)"
          ],
          [
           0.375,
           "rgb(252,146,114)"
          ],
          [
           0.5,
           "rgb(251,106,74)"
          ],
          [
           0.625,
           "rgb(239,59,44)"
          ],
          [
           0.75,
           "rgb(203,24,29)"
          ],
          [
           0.875,
           "rgb(165,15,21)"
          ],
          [
           1,
           "rgb(103,0,13)"
          ]
         ]
        },
        "geo": {
         "bgcolor": "rgba(0,0,0,0)",
         "center": {},
         "domain": {
          "x": [
           0,
           1
          ],
          "y": [
           0,
           1
          ]
         },
         "projection": {
          "type": "natural earth"
         },
         "showframe": false
        },
        "height": 600,
        "legend": {
         "tracegroupgap": 0
        },
        "margin": {
         "b": 50,
         "l": 0,
         "r": 0,
         "t": 60
        },
        "sliders": [
         {
          "active": 0,
          "currentvalue": {
           "prefix": "date_str="
          },
          "len": 0.9,
          "pad": {
           "b": 10,
           "t": 60
          },
          "steps": [
           {
            "args": [
             [
              "2023-01"
             ],
             {
              "frame": {
               "duration": 0,
               "redraw": true
              },
              "fromcurrent": true,
              "mode": "immediate",
              "transition": {
               "duration": 0,
               "easing": "linear"
              }
             }
            ],
            "label": "2023-01",
            "method": "animate"
           },
           {
            "args": [
             [
              "2023-02"
             ],
             {
              "frame": {
               "duration": 0,
               "redraw": true
              },
              "fromcurrent": true,
              "mode": "immediate",
              "transition": {
               "duration": 0,
               "easing": "linear"
              }
             }
            ],
            "label": "2023-02",
            "method": "animate"
           },
           {
            "args": [
             [
              "2023-03"
             ],
             {
              "frame": {
               "duration": 0,
               "redraw": true
              },
              "fromcurrent": true,
              "mode": "immediate",
              "transition": {
               "duration": 0,
               "easing": "linear"
              }
             }
            ],
            "label": "2023-03",
            "method": "animate"
           },
           {
            "args": [
             [
              "2023-04"
             ],
             {
              "frame": {
               "duration": 0,
               "redraw": true
              },
              "fromcurrent": true,
              "mode": "immediate",
              "transition": {
               "duration": 0,
               "easing": "linear"
              }
             }
            ],
            "label": "2023-04",
            "method": "animate"
           },
           {
            "args": [
             [
              "2023-05"
             ],
             {
              "frame": {
               "duration": 0,
               "redraw": true
              },
              "fromcurrent": true,
              "mode": "immediate",
              "transition": {
               "duration": 0,
               "easing": "linear"
              }
             }
            ],
            "label": "2023-05",
            "method": "animate"
           },
           {
            "args": [
             [
              "2023-06"
             ],
             {
              "frame": {
               "duration": 0,
               "redraw": true
              },
              "fromcurrent": true,
              "mode": "immediate",
              "transition": {
               "duration": 0,
               "easing": "linear"
              }
             }
            ],
            "label": "2023-06",
            "method": "animate"
           },
           {
            "args": [
             [
              "2023-07"
             ],
             {
              "frame": {
               "duration": 0,
               "redraw": true
              },
              "fromcurrent": true,
              "mode": "immediate",
              "transition": {
               "duration": 0,
               "easing": "linear"
              }
             }
            ],
            "label": "2023-07",
            "method": "animate"
           },
           {
            "args": [
             [
              "2023-08"
             ],
             {
              "frame": {
               "duration": 0,
               "redraw": true
              },
              "fromcurrent": true,
              "mode": "immediate",
              "transition": {
               "duration": 0,
               "easing": "linear"
              }
             }
            ],
            "label": "2023-08",
            "method": "animate"
           },
           {
            "args": [
             [
              "2023-09"
             ],
             {
              "frame": {
               "duration": 0,
               "redraw": true
              },
              "fromcurrent": true,
              "mode": "immediate",
              "transition": {
               "duration": 0,
               "easing": "linear"
              }
             }
            ],
            "label": "2023-09",
            "method": "animate"
           },
           {
            "args": [
             [
              "2023-10"
             ],
             {
              "frame": {
               "duration": 0,
               "redraw": true
              },
              "fromcurrent": true,
              "mode": "immediate",
              "transition": {
               "duration": 0,
               "easing": "linear"
              }
             }
            ],
            "label": "2023-10",
            "method": "animate"
           },
           {
            "args": [
             [
              "2023-11"
             ],
             {
              "frame": {
               "duration": 0,
               "redraw": true
              },
              "fromcurrent": true,
              "mode": "immediate",
              "transition": {
               "duration": 0,
               "easing": "linear"
              }
             }
            ],
            "label": "2023-11",
            "method": "animate"
           },
           {
            "args": [
             [
              "2023-12"
             ],
             {
              "frame": {
               "duration": 0,
               "redraw": true
              },
              "fromcurrent": true,
              "mode": "immediate",
              "transition": {
               "duration": 0,
               "easing": "linear"
              }
             }
            ],
            "label": "2023-12",
            "method": "animate"
           },
           {
            "args": [
             [
              "2024-01"
             ],
             {
              "frame": {
               "duration": 0,
               "redraw": true
              },
              "fromcurrent": true,
              "mode": "immediate",
              "transition": {
               "duration": 0,
               "easing": "linear"
              }
             }
            ],
            "label": "2024-01",
            "method": "animate"
           },
           {
            "args": [
             [
              "2024-02"
             ],
             {
              "frame": {
               "duration": 0,
               "redraw": true
              },
              "fromcurrent": true,
              "mode": "immediate",
              "transition": {
               "duration": 0,
               "easing": "linear"
              }
             }
            ],
            "label": "2024-02",
            "method": "animate"
           },
           {
            "args": [
             [
              "2024-03"
             ],
             {
              "frame": {
               "duration": 0,
               "redraw": true
              },
              "fromcurrent": true,
              "mode": "immediate",
              "transition": {
               "duration": 0,
               "easing": "linear"
              }
             }
            ],
            "label": "2024-03",
            "method": "animate"
           },
           {
            "args": [
             [
              "2024-04"
             ],
             {
              "frame": {
               "duration": 0,
               "redraw": true
              },
              "fromcurrent": true,
              "mode": "immediate",
              "transition": {
               "duration": 0,
               "easing": "linear"
              }
             }
            ],
            "label": "2024-04",
            "method": "animate"
           },
           {
            "args": [
             [
              "2024-05"
             ],
             {
              "frame": {
               "duration": 0,
               "redraw": true
              },
              "fromcurrent": true,
              "mode": "immediate",
              "transition": {
               "duration": 0,
               "easing": "linear"
              }
             }
            ],
            "label": "2024-05",
            "method": "animate"
           },
           {
            "args": [
             [
              "2024-06"
             ],
             {
              "frame": {
               "duration": 0,
               "redraw": true
              },
              "fromcurrent": true,
              "mode": "immediate",
              "transition": {
               "duration": 0,
               "easing": "linear"
              }
             }
            ],
            "label": "2024-06",
            "method": "animate"
           },
           {
            "args": [
             [
              "2024-07"
             ],
             {
              "frame": {
               "duration": 0,
               "redraw": true
              },
              "fromcurrent": true,
              "mode": "immediate",
              "transition": {
               "duration": 0,
               "easing": "linear"
              }
             }
            ],
            "label": "2024-07",
            "method": "animate"
           },
           {
            "args": [
             [
              "2024-08"
             ],
             {
              "frame": {
               "duration": 0,
               "redraw": true
              },
              "fromcurrent": true,
              "mode": "immediate",
              "transition": {
               "duration": 0,
               "easing": "linear"
              }
             }
            ],
            "label": "2024-08",
            "method": "animate"
           },
           {
            "args": [
             [
              "2024-09"
             ],
             {
              "frame": {
               "duration": 0,
               "redraw": true
              },
              "fromcurrent": true,
              "mode": "immediate",
              "transition": {
               "duration": 0,
               "easing": "linear"
              }
             }
            ],
            "label": "2024-09",
            "method": "animate"
           },
           {
            "args": [
             [
              "2024-10"
             ],
             {
              "frame": {
               "duration": 0,
               "redraw": true
              },
              "fromcurrent": true,
              "mode": "immediate",
              "transition": {
               "duration": 0,
               "easing": "linear"
              }
             }
            ],
            "label": "2024-10",
            "method": "animate"
           },
           {
            "args": [
             [
              "2024-11"
             ],
             {
              "frame": {
               "duration": 0,
               "redraw": true
              },
              "fromcurrent": true,
              "mode": "immediate",
              "transition": {
               "duration": 0,
               "easing": "linear"
              }
             }
            ],
            "label": "2024-11",
            "method": "animate"
           },
           {
            "args": [
             [
              "2024-12"
             ],
             {
              "frame": {
               "duration": 0,
               "redraw": true
              },
              "fromcurrent": true,
              "mode": "immediate",
              "transition": {
               "duration": 0,
               "easing": "linear"
              }
             }
            ],
            "label": "2024-12",
            "method": "animate"
           },
           {
            "args": [
             [
              "2025-01"
             ],
             {
              "frame": {
               "duration": 0,
               "redraw": true
              },
              "fromcurrent": true,
              "mode": "immediate",
              "transition": {
               "duration": 0,
               "easing": "linear"
              }
             }
            ],
            "label": "2025-01",
            "method": "animate"
           },
           {
            "args": [
             [
              "2025-02"
             ],
             {
              "frame": {
               "duration": 0,
               "redraw": true
              },
              "fromcurrent": true,
              "mode": "immediate",
              "transition": {
               "duration": 0,
               "easing": "linear"
              }
             }
            ],
            "label": "2025-02",
            "method": "animate"
           },
           {
            "args": [
             [
              "2025-03"
             ],
             {
              "frame": {
               "duration": 0,
               "redraw": true
              },
              "fromcurrent": true,
              "mode": "immediate",
              "transition": {
               "duration": 0,
               "easing": "linear"
              }
             }
            ],
            "label": "2025-03",
            "method": "animate"
           },
           {
            "args": [
             [
              "2025-04"
             ],
             {
              "frame": {
               "duration": 0,
               "redraw": true
              },
              "fromcurrent": true,
              "mode": "immediate",
              "transition": {
               "duration": 0,
               "easing": "linear"
              }
             }
            ],
            "label": "2025-04",
            "method": "animate"
           }
          ],
          "x": 0.1,
          "xanchor": "left",
          "y": 0,
          "yanchor": "top"
         }
        ],
        "template": {
         "data": {
          "bar": [
           {
            "error_x": {
             "color": "#2a3f5f"
            },
            "error_y": {
             "color": "#2a3f5f"
            },
            "marker": {
             "line": {
              "color": "#E5ECF6",
              "width": 0.5
             },
             "pattern": {
              "fillmode": "overlay",
              "size": 10,
              "solidity": 0.2
             }
            },
            "type": "bar"
           }
          ],
          "barpolar": [
           {
            "marker": {
             "line": {
              "color": "#E5ECF6",
              "width": 0.5
             },
             "pattern": {
              "fillmode": "overlay",
              "size": 10,
              "solidity": 0.2
             }
            },
            "type": "barpolar"
           }
          ],
          "carpet": [
           {
            "aaxis": {
             "endlinecolor": "#2a3f5f",
             "gridcolor": "white",
             "linecolor": "white",
             "minorgridcolor": "white",
             "startlinecolor": "#2a3f5f"
            },
            "baxis": {
             "endlinecolor": "#2a3f5f",
             "gridcolor": "white",
             "linecolor": "white",
             "minorgridcolor": "white",
             "startlinecolor": "#2a3f5f"
            },
            "type": "carpet"
           }
          ],
          "choropleth": [
           {
            "colorbar": {
             "outlinewidth": 0,
             "ticks": ""
            },
            "type": "choropleth"
           }
          ],
          "contour": [
           {
            "colorbar": {
             "outlinewidth": 0,
             "ticks": ""
            },
            "colorscale": [
             [
              0,
              "#0d0887"
             ],
             [
              0.1111111111111111,
              "#46039f"
             ],
             [
              0.2222222222222222,
              "#7201a8"
             ],
             [
              0.3333333333333333,
              "#9c179e"
             ],
             [
              0.4444444444444444,
              "#bd3786"
             ],
             [
              0.5555555555555556,
              "#d8576b"
             ],
             [
              0.6666666666666666,
              "#ed7953"
             ],
             [
              0.7777777777777778,
              "#fb9f3a"
             ],
             [
              0.8888888888888888,
              "#fdca26"
             ],
             [
              1,
              "#f0f921"
             ]
            ],
            "type": "contour"
           }
          ],
          "contourcarpet": [
           {
            "colorbar": {
             "outlinewidth": 0,
             "ticks": ""
            },
            "type": "contourcarpet"
           }
          ],
          "heatmap": [
           {
            "colorbar": {
             "outlinewidth": 0,
             "ticks": ""
            },
            "colorscale": [
             [
              0,
              "#0d0887"
             ],
             [
              0.1111111111111111,
              "#46039f"
             ],
             [
              0.2222222222222222,
              "#7201a8"
             ],
             [
              0.3333333333333333,
              "#9c179e"
             ],
             [
              0.4444444444444444,
              "#bd3786"
             ],
             [
              0.5555555555555556,
              "#d8576b"
             ],
             [
              0.6666666666666666,
              "#ed7953"
             ],
             [
              0.7777777777777778,
              "#fb9f3a"
             ],
             [
              0.8888888888888888,
              "#fdca26"
             ],
             [
              1,
              "#f0f921"
             ]
            ],
            "type": "heatmap"
           }
          ],
          "heatmapgl": [
           {
            "colorbar": {
             "outlinewidth": 0,
             "ticks": ""
            },
            "colorscale": [
             [
              0,
              "#0d0887"
             ],
             [
              0.1111111111111111,
              "#46039f"
             ],
             [
              0.2222222222222222,
              "#7201a8"
             ],
             [
              0.3333333333333333,
              "#9c179e"
             ],
             [
              0.4444444444444444,
              "#bd3786"
             ],
             [
              0.5555555555555556,
              "#d8576b"
             ],
             [
              0.6666666666666666,
              "#ed7953"
             ],
             [
              0.7777777777777778,
              "#fb9f3a"
             ],
             [
              0.8888888888888888,
              "#fdca26"
             ],
             [
              1,
              "#f0f921"
             ]
            ],
            "type": "heatmapgl"
           }
          ],
          "histogram": [
           {
            "marker": {
             "pattern": {
              "fillmode": "overlay",
              "size": 10,
              "solidity": 0.2
             }
            },
            "type": "histogram"
           }
          ],
          "histogram2d": [
           {
            "colorbar": {
             "outlinewidth": 0,
             "ticks": ""
            },
            "colorscale": [
             [
              0,
              "#0d0887"
             ],
             [
              0.1111111111111111,
              "#46039f"
             ],
             [
              0.2222222222222222,
              "#7201a8"
             ],
             [
              0.3333333333333333,
              "#9c179e"
             ],
             [
              0.4444444444444444,
              "#bd3786"
             ],
             [
              0.5555555555555556,
              "#d8576b"
             ],
             [
              0.6666666666666666,
              "#ed7953"
             ],
             [
              0.7777777777777778,
              "#fb9f3a"
             ],
             [
              0.8888888888888888,
              "#fdca26"
             ],
             [
              1,
              "#f0f921"
             ]
            ],
            "type": "histogram2d"
           }
          ],
          "histogram2dcontour": [
           {
            "colorbar": {
             "outlinewidth": 0,
             "ticks": ""
            },
            "colorscale": [
             [
              0,
              "#0d0887"
             ],
             [
              0.1111111111111111,
              "#46039f"
             ],
             [
              0.2222222222222222,
              "#7201a8"
             ],
             [
              0.3333333333333333,
              "#9c179e"
             ],
             [
              0.4444444444444444,
              "#bd3786"
             ],
             [
              0.5555555555555556,
              "#d8576b"
             ],
             [
              0.6666666666666666,
              "#ed7953"
             ],
             [
              0.7777777777777778,
              "#fb9f3a"
             ],
             [
              0.8888888888888888,
              "#fdca26"
             ],
             [
              1,
              "#f0f921"
             ]
            ],
            "type": "histogram2dcontour"
           }
          ],
          "mesh3d": [
           {
            "colorbar": {
             "outlinewidth": 0,
             "ticks": ""
            },
            "type": "mesh3d"
           }
          ],
          "parcoords": [
           {
            "line": {
             "colorbar": {
              "outlinewidth": 0,
              "ticks": ""
             }
            },
            "type": "parcoords"
           }
          ],
          "pie": [
           {
            "automargin": true,
            "type": "pie"
           }
          ],
          "scatter": [
           {
            "fillpattern": {
             "fillmode": "overlay",
             "size": 10,
             "solidity": 0.2
            },
            "type": "scatter"
           }
          ],
          "scatter3d": [
           {
            "line": {
             "colorbar": {
              "outlinewidth": 0,
              "ticks": ""
             }
            },
            "marker": {
             "colorbar": {
              "outlinewidth": 0,
              "ticks": ""
             }
            },
            "type": "scatter3d"
           }
          ],
          "scattercarpet": [
           {
            "marker": {
             "colorbar": {
              "outlinewidth": 0,
              "ticks": ""
             }
            },
            "type": "scattercarpet"
           }
          ],
          "scattergeo": [
           {
            "marker": {
             "colorbar": {
              "outlinewidth": 0,
              "ticks": ""
             }
            },
            "type": "scattergeo"
           }
          ],
          "scattergl": [
           {
            "marker": {
             "colorbar": {
              "outlinewidth": 0,
              "ticks": ""
             }
            },
            "type": "scattergl"
           }
          ],
          "scattermapbox": [
           {
            "marker": {
             "colorbar": {
              "outlinewidth": 0,
              "ticks": ""
             }
            },
            "type": "scattermapbox"
           }
          ],
          "scatterpolar": [
           {
            "marker": {
             "colorbar": {
              "outlinewidth": 0,
              "ticks": ""
             }
            },
            "type": "scatterpolar"
           }
          ],
          "scatterpolargl": [
           {
            "marker": {
             "colorbar": {
              "outlinewidth": 0,
              "ticks": ""
             }
            },
            "type": "scatterpolargl"
           }
          ],
          "scatterternary": [
           {
            "marker": {
             "colorbar": {
              "outlinewidth": 0,
              "ticks": ""
             }
            },
            "type": "scatterternary"
           }
          ],
          "surface": [
           {
            "colorbar": {
             "outlinewidth": 0,
             "ticks": ""
            },
            "colorscale": [
             [
              0,
              "#0d0887"
             ],
             [
              0.1111111111111111,
              "#46039f"
             ],
             [
              0.2222222222222222,
              "#7201a8"
             ],
             [
              0.3333333333333333,
              "#9c179e"
             ],
             [
              0.4444444444444444,
              "#bd3786"
             ],
             [
              0.5555555555555556,
              "#d8576b"
             ],
             [
              0.6666666666666666,
              "#ed7953"
             ],
             [
              0.7777777777777778,
              "#fb9f3a"
             ],
             [
              0.8888888888888888,
              "#fdca26"
             ],
             [
              1,
              "#f0f921"
             ]
            ],
            "type": "surface"
           }
          ],
          "table": [
           {
            "cells": {
             "fill": {
              "color": "#EBF0F8"
             },
             "line": {
              "color": "white"
             }
            },
            "header": {
             "fill": {
              "color": "#C8D4E3"
             },
             "line": {
              "color": "white"
             }
            },
            "type": "table"
           }
          ]
         },
         "layout": {
          "annotationdefaults": {
           "arrowcolor": "#2a3f5f",
           "arrowhead": 0,
           "arrowwidth": 1
          },
          "autotypenumbers": "strict",
          "coloraxis": {
           "colorbar": {
            "outlinewidth": 0,
            "ticks": ""
           }
          },
          "colorscale": {
           "diverging": [
            [
             0,
             "#8e0152"
            ],
            [
             0.1,
             "#c51b7d"
            ],
            [
             0.2,
             "#de77ae"
            ],
            [
             0.3,
             "#f1b6da"
            ],
            [
             0.4,
             "#fde0ef"
            ],
            [
             0.5,
             "#f7f7f7"
            ],
            [
             0.6,
             "#e6f5d0"
            ],
            [
             0.7,
             "#b8e186"
            ],
            [
             0.8,
             "#7fbc41"
            ],
            [
             0.9,
             "#4d9221"
            ],
            [
             1,
             "#276419"
            ]
           ],
           "sequential": [
            [
             0,
             "#0d0887"
            ],
            [
             0.1111111111111111,
             "#46039f"
            ],
            [
             0.2222222222222222,
             "#7201a8"
            ],
            [
             0.3333333333333333,
             "#9c179e"
            ],
            [
             0.4444444444444444,
             "#bd3786"
            ],
            [
             0.5555555555555556,
             "#d8576b"
            ],
            [
             0.6666666666666666,
             "#ed7953"
            ],
            [
             0.7777777777777778,
             "#fb9f3a"
            ],
            [
             0.8888888888888888,
             "#fdca26"
            ],
            [
             1,
             "#f0f921"
            ]
           ],
           "sequentialminus": [
            [
             0,
             "#0d0887"
            ],
            [
             0.1111111111111111,
             "#46039f"
            ],
            [
             0.2222222222222222,
             "#7201a8"
            ],
            [
             0.3333333333333333,
             "#9c179e"
            ],
            [
             0.4444444444444444,
             "#bd3786"
            ],
            [
             0.5555555555555556,
             "#d8576b"
            ],
            [
             0.6666666666666666,
             "#ed7953"
            ],
            [
             0.7777777777777778,
             "#fb9f3a"
            ],
            [
             0.8888888888888888,
             "#fdca26"
            ],
            [
             1,
             "#f0f921"
            ]
           ]
          },
          "colorway": [
           "#636efa",
           "#EF553B",
           "#00cc96",
           "#ab63fa",
           "#FFA15A",
           "#19d3f3",
           "#FF6692",
           "#B6E880",
           "#FF97FF",
           "#FECB52"
          ],
          "font": {
           "color": "#2a3f5f"
          },
          "geo": {
           "bgcolor": "white",
           "lakecolor": "white",
           "landcolor": "#E5ECF6",
           "showlakes": true,
           "showland": true,
           "subunitcolor": "white"
          },
          "hoverlabel": {
           "align": "left"
          },
          "hovermode": "closest",
          "mapbox": {
           "style": "light"
          },
          "paper_bgcolor": "white",
          "plot_bgcolor": "#E5ECF6",
          "polar": {
           "angularaxis": {
            "gridcolor": "white",
            "linecolor": "white",
            "ticks": ""
           },
           "bgcolor": "#E5ECF6",
           "radialaxis": {
            "gridcolor": "white",
            "linecolor": "white",
            "ticks": ""
           }
          },
          "scene": {
           "xaxis": {
            "backgroundcolor": "#E5ECF6",
            "gridcolor": "white",
            "gridwidth": 2,
            "linecolor": "white",
            "showbackground": true,
            "ticks": "",
            "zerolinecolor": "white"
           },
           "yaxis": {
            "backgroundcolor": "#E5ECF6",
            "gridcolor": "white",
            "gridwidth": 2,
            "linecolor": "white",
            "showbackground": true,
            "ticks": "",
            "zerolinecolor": "white"
           },
           "zaxis": {
            "backgroundcolor": "#E5ECF6",
            "gridcolor": "white",
            "gridwidth": 2,
            "linecolor": "white",
            "showbackground": true,
            "ticks": "",
            "zerolinecolor": "white"
           }
          },
          "shapedefaults": {
           "line": {
            "color": "#2a3f5f"
           }
          },
          "ternary": {
           "aaxis": {
            "gridcolor": "white",
            "linecolor": "white",
            "ticks": ""
           },
           "baxis": {
            "gridcolor": "white",
            "linecolor": "white",
            "ticks": ""
           },
           "bgcolor": "#E5ECF6",
           "caxis": {
            "gridcolor": "white",
            "linecolor": "white",
            "ticks": ""
           }
          },
          "title": {
           "x": 0.05
          },
          "xaxis": {
           "automargin": true,
           "gridcolor": "white",
           "linecolor": "white",
           "ticks": "",
           "title": {
            "standoff": 15
           },
           "zerolinecolor": "white",
           "zerolinewidth": 2
          },
          "yaxis": {
           "automargin": true,
           "gridcolor": "white",
           "linecolor": "white",
           "ticks": "",
           "title": {
            "standoff": 15
           },
           "zerolinecolor": "white",
           "zerolinewidth": 2
          }
         }
        },
        "title": {
         "text": "🌍 Produits affectés par des barrières commerciales annoncées (2023–2025)",
         "x": 0.5
        },
        "updatemenus": [
         {
          "buttons": [
           {
            "args": [
             null,
             {
              "frame": {
               "duration": 500,
               "redraw": true
              },
              "fromcurrent": true,
              "mode": "immediate",
              "transition": {
               "duration": 500,
               "easing": "linear"
              }
             }
            ],
            "label": "&#9654;",
            "method": "animate"
           },
           {
            "args": [
             [
              null
             ],
             {
              "frame": {
               "duration": 0,
               "redraw": true
              },
              "fromcurrent": true,
              "mode": "immediate",
              "transition": {
               "duration": 0,
               "easing": "linear"
              }
             }
            ],
            "label": "&#9724;",
            "method": "animate"
           }
          ],
          "direction": "left",
          "pad": {
           "r": 10,
           "t": 70
          },
          "showactive": false,
          "type": "buttons",
          "x": 0.1,
          "xanchor": "right",
          "y": 0,
          "yanchor": "top"
         }
        ],
        "width": 1000
       }
      }
     },
     "metadata": {},
     "output_type": "display_data"
    }
   ],
   "source": [
    "df_products = pd.read_csv(\"C:\\\\Users\\\\Shpet\\\\Desktop\\\\data-center-export (3).csv\")\n",
    "\n",
    "\n",
    "# Nettoyage\n",
    "df_products = df_products.dropna(subset=[\"Year announced\", \"Month announced\"])\n",
    "df_products[\"Value\"] = pd.to_numeric(df_products[\"Value\"], errors=\"coerce\")\n",
    "df_products[\"Year announced\"] = pd.to_numeric(df_products[\"Year announced\"], errors=\"coerce\")\n",
    "df_products[\"Month announced\"] = pd.to_numeric(df_products[\"Month announced\"], errors=\"coerce\")\n",
    "\n",
    "# Créer une colonne date complète (année-mois)\n",
    "df_products[\"date\"] = pd.to_datetime(\n",
    "    df_products[\"Year announced\"].astype(int).astype(str) + \"-\" +\n",
    "    df_products[\"Month announced\"].astype(int).astype(str).str.zfill(2),\n",
    "    format=\"%Y-%m\"\n",
    ")\n",
    "\n",
    "# Regrouper par pays et date, en sommant les produits affectés\n",
    "df_summary_products = df_products.groupby([\"Implementer\", \"date\"])[\"Value\"].sum().reset_index()\n",
    "df_summary_products.columns = [\"country\", \"date\", \"products_affected\"]\n",
    "df_summary_products[\"date_str\"] = df_summary_products[\"date\"].dt.strftime(\"%Y-%m\")\n",
    "\n",
    "# Limiter à 2023–2025 pour garder la même période de focus\n",
    "df_summary_products = df_summary_products[\n",
    "    df_summary_products[\"date\"].between(\"2023-01\", \"2025-12\")\n",
    "]\n",
    "\n",
    "# Créer la carte animée\n",
    "fig = px.choropleth(\n",
    "    df_summary_products,\n",
    "    locations=\"country\",\n",
    "    locationmode=\"country names\",\n",
    "    color=\"products_affected\",\n",
    "    animation_frame=\"date_str\",\n",
    "    color_continuous_scale=\"Reds\",\n",
    "    range_color=(0, df_summary_products[\"products_affected\"].max()),  # échelle raisonnable\n",
    "    title=\"🌍 Produits affectés par des barrières commerciales annoncées (2023–2025)\"\n",
    ")\n",
    "\n",
    "fig.update_layout(\n",
    "    geo=dict(\n",
    "        showframe=False,\n",
    "        projection_type=\"natural earth\",\n",
    "        bgcolor=\"rgba(0,0,0,0)\"\n",
    "    ),\n",
    "    title_x=0.5,\n",
    "    width=1000,\n",
    "    height=600,\n",
    "    margin=dict(l=0, r=0, t=60, b=50),\n",
    "    annotations=[\n",
    "        dict(\n",
    "            x=0.5,\n",
    "            y=-0.12,\n",
    "            xref='paper',\n",
    "            yref='paper',\n",
    "            text=\"Source : Global Trade Alert • Nombre de produits visés par des mesures commerciales (non pondéré)\",\n",
    "            showarrow=False,\n",
    "            font=dict(size=12, color=\"gray\")\n",
    "        )\n",
    "    ]\n",
    ")\n",
    "\n",
    "fig.show()"
   ]
  },
  {
   "cell_type": "code",
   "execution_count": 9,
   "id": "0909407b",
   "metadata": {},
   "outputs": [],
   "source": [
    "import plotly.graph_objects as go\n",
    "from plotly.subplots import make_subplots\n",
    "\n",
    "# On relit les deux jeux de données (barrières simples et produits affectés)\n",
    "df_barriers = pd.read_csv(\"C:\\\\Users\\\\Shpet\\\\Desktop\\\\data-center-export interventions.csv\")\n",
    "df_products = pd.read_csv(\"C:\\\\Users\\\\Shpet\\\\Desktop\\\\data-center-export produits.csv\")\n",
    "\n",
    "# Fonction de préparation avec vérifications des dates\n",
    "def prepare_dataframe(df, value_col):\n",
    "    # Nettoyage\n",
    "    df = df.dropna(subset=[\"Year announced\", \"Month announced\"])\n",
    "    df[\"Value\"] = pd.to_numeric(df[\"Value\"], errors=\"coerce\")\n",
    "    df[\"Year announced\"] = pd.to_numeric(df[\"Year announced\"], errors=\"coerce\")\n",
    "    df[\"Month announced\"] = pd.to_numeric(df[\"Month announced\"], errors=\"coerce\")\n",
    "    \n",
    "    # Supprimer les mois/années invalides\n",
    "    df = df[(df[\"Year announced\"] >= 2000) & (df[\"Year announced\"] <= 2100)]\n",
    "    df = df[(df[\"Month announced\"] >= 1) & (df[\"Month announced\"] <= 12)]\n",
    "\n",
    "    # Création de la colonne date\n",
    "    df[\"date\"] = pd.to_datetime(\n",
    "        df[\"Year announced\"].astype(int).astype(str) + \"-\" +\n",
    "        df[\"Month announced\"].astype(int).astype(str).str.zfill(2),\n",
    "        format=\"%Y-%m\"\n",
    "    )\n",
    "\n",
    "    # Agrégation par pays et date\n",
    "    df_summary = df.groupby([\"Implementer\", \"date\"])[\"Value\"].sum().reset_index()\n",
    "    df_summary.columns = [\"country\", \"date\", value_col]\n",
    "    \n",
    "    # Garder période utile\n",
    "    df_summary = df_summary[df_summary[\"date\"].between(\"2023-01\", \"2025-12\")]\n",
    "\n",
    "    # Index temporel pour éviter le bug de tri\n",
    "    df_summary = df_summary.sort_values(\"date\")\n",
    "    df_summary[\"month_index\"] = df_summary[\"date\"].rank(method=\"dense\").astype(int)\n",
    "    df_summary[\"label\"] = df_summary[\"date\"].dt.strftime(\"%Y-%m\")\n",
    "\n",
    "    return df_summary\n",
    "\n",
    "# Préparation des deux datasets\n",
    "barriers_df = prepare_dataframe(df_barriers, \"barriers\")\n",
    "products_df = prepare_dataframe(df_products, \"products_affected\")\n",
    "\n",
    "# Palette de couleurs\n",
    "color_scale = [\n",
    "    [0.0, \"#ffffb2\"],\n",
    "    [0.25, \"#fecc5c\"],\n",
    "    [0.5, \"#fd8d3c\"],\n",
    "    [0.75, \"#f03b20\"],\n",
    "    [1.0, \"#bd0026\"]\n",
    "]\n",
    "\n",
    "# Mise à jour des figures\n",
    "fig1 = px.choropleth(\n",
    "    barriers_df,\n",
    "    locations=\"country\",\n",
    "    locationmode=\"country names\",\n",
    "    color=\"barriers\",\n",
    "    animation_frame=\"label\",  # on affiche la vraie date\n",
    "    color_continuous_scale=color_scale,\n",
    "    range_color=(0, 500),\n",
    "    title=\"🌍 Nombre de mesures commerciales annoncées (2023–2025)\"\n",
    ")\n",
    "\n",
    "fig2 = px.choropleth(\n",
    "    products_df,\n",
    "    locations=\"country\",\n",
    "    locationmode=\"country names\",\n",
    "    color=\"products_affected\",\n",
    "    animation_frame=\"label\",\n",
    "    color_continuous_scale=color_scale,\n",
    "    range_color=(0, products_df[\"products_affected\"].quantile(0.95)),\n",
    "    title=\"🌍 Nombre de produits affectés par des barrières commerciales (2023–2025)\"\n",
    ")\n",
    "\n",
    "# Export combiné avec labels visibles\n",
    "with open(\"C:\\\\Users\\\\Shpet\\\\Desktop\\\\trade_barriers_with_real_dates.html\", \"w\") as f:\n",
    "    f.write(\"<h2>Nombre de mesures commerciales</h2>\")\n",
    "    f.write(fig1.to_html(full_html=False, include_plotlyjs='cdn'))\n",
    "    f.write(\"<h2>Nombre de produits affectés</h2>\")\n",
    "    f.write(fig2.to_html(full_html=False, include_plotlyjs=False))\n"
   ]
  },
  {
   "cell_type": "code",
   "execution_count": 10,
   "id": "261b6555",
   "metadata": {},
   "outputs": [],
   "source": [
    "import os\n",
    "import pandas as pd\n",
    "import plotly.express as px\n",
    "from plotly.io import to_image\n",
    "\n",
    "# Crée un dossier pour les frames\n",
    "os.makedirs(\"frames\", exist_ok=True)\n",
    "\n",
    "# On suppose que tu as déjà un DataFrame nommé `barriers_df` avec une colonne \"label\"\n",
    "images_paths = []\n",
    "\n",
    "for label in barriers_df[\"label\"].unique():\n",
    "    frame_df = barriers_df[barriers_df[\"label\"] == label]\n",
    "\n",
    "    fig = px.choropleth(\n",
    "        frame_df,\n",
    "        locations=\"country\",\n",
    "        locationmode=\"country names\",\n",
    "        color=\"barriers\",\n",
    "        color_continuous_scale=\"Reds\",\n",
    "        range_color=(0, 500),\n",
    "        title=f\"🌍 Barrières commerciales – {label}\"\n",
    "    )\n",
    "\n",
    "    img_path = f\"frames/frame_{label}.png\"\n",
    "    img_bytes = to_image(fig, format=\"png\", scale=2)\n",
    "    with open(img_path, \"wb\") as f:\n",
    "        f.write(img_bytes)\n",
    "    \n",
    "    images_paths.append(img_path)\n"
   ]
  },
  {
   "cell_type": "code",
   "execution_count": 11,
   "id": "07cad41a",
   "metadata": {},
   "outputs": [
    {
     "ename": "ModuleNotFoundError",
     "evalue": "No module named 'moviepy.editor'",
     "output_type": "error",
     "traceback": [
      "\u001b[1;31m---------------------------------------------------------------------------\u001b[0m",
      "\u001b[1;31mModuleNotFoundError\u001b[0m                       Traceback (most recent call last)",
      "Cell \u001b[1;32mIn[11], line 1\u001b[0m\n\u001b[1;32m----> 1\u001b[0m \u001b[38;5;28;01mfrom\u001b[39;00m \u001b[38;5;21;01mmoviepy\u001b[39;00m\u001b[38;5;21;01m.\u001b[39;00m\u001b[38;5;21;01meditor\u001b[39;00m \u001b[38;5;28;01mimport\u001b[39;00m ImageSequenceClip\n\u001b[0;32m      3\u001b[0m clip \u001b[38;5;241m=\u001b[39m ImageSequenceClip(images_paths, fps\u001b[38;5;241m=\u001b[39m\u001b[38;5;241m1\u001b[39m)\n\u001b[0;32m      4\u001b[0m clip\u001b[38;5;241m.\u001b[39mwrite_gif(\u001b[38;5;124m\"\u001b[39m\u001b[38;5;124mtrade_barriers.gif\u001b[39m\u001b[38;5;124m\"\u001b[39m, fps\u001b[38;5;241m=\u001b[39m\u001b[38;5;241m1\u001b[39m)\n",
      "\u001b[1;31mModuleNotFoundError\u001b[0m: No module named 'moviepy.editor'"
     ]
    }
   ],
   "source": [
    "from moviepy.editor import ImageSequenceClip\n",
    "\n",
    "clip = ImageSequenceClip(images_paths, fps=1)\n",
    "clip.write_gif(\"trade_barriers.gif\", fps=1)\n"
   ]
  }
 ],
 "metadata": {
  "kernelspec": {
   "display_name": "base",
   "language": "python",
   "name": "python3"
  },
  "language_info": {
   "codemirror_mode": {
    "name": "ipython",
    "version": 3
   },
   "file_extension": ".py",
   "mimetype": "text/x-python",
   "name": "python",
   "nbconvert_exporter": "python",
   "pygments_lexer": "ipython3",
   "version": "3.11.7"
  }
 },
 "nbformat": 4,
 "nbformat_minor": 5
}
